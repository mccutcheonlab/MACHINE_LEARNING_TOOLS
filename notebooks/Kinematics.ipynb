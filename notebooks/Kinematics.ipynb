{
 "cells": [
  {
   "cell_type": "code",
   "execution_count": 2,
   "id": "74a00d79-287b-417b-a7b7-6bcaa06b4237",
   "metadata": {},
   "outputs": [],
   "source": [
    "from dlc2action.project import Project"
   ]
  },
  {
   "cell_type": "code",
   "execution_count": null,
   "id": "a562cc32-a122-4fb0-bed8-09881784d29f",
   "metadata": {},
   "outputs": [],
   "source": [
    "project = Project(\n",
    "    \"openfield_test\",\n",
    "    data_type= "
   ]
  },
  {
   "cell_type": "code",
   "execution_count": 1,
   "id": "0d1bd9f0-3597-4dda-99ff-dc0500256652",
   "metadata": {},
   "outputs": [
    {
     "ename": "NameError",
     "evalue": "name 'Project' is not defined",
     "output_type": "error",
     "traceback": [
      "\u001b[1;31m---------------------------------------------------------------------------\u001b[0m",
      "\u001b[1;31mNameError\u001b[0m                                 Traceback (most recent call last)",
      "Cell \u001b[1;32mIn[1], line 2\u001b[0m\n\u001b[0;32m      1\u001b[0m \u001b[38;5;66;03m# create a new project\u001b[39;00m\n\u001b[1;32m----> 2\u001b[0m project \u001b[38;5;241m=\u001b[39m \u001b[43mProject\u001b[49m(\u001b[38;5;124m'\u001b[39m\u001b[38;5;124mproject_name\u001b[39m\u001b[38;5;124m'\u001b[39m, data_type\u001b[38;5;241m=\u001b[39m\u001b[38;5;124m'\u001b[39m\u001b[38;5;124mdata_type\u001b[39m\u001b[38;5;124m'\u001b[39m, annotation_type\u001b[38;5;241m=\u001b[39m\u001b[38;5;124m'\u001b[39m\u001b[38;5;124mannotation_type\u001b[39m\u001b[38;5;124m'\u001b[39m,\n\u001b[0;32m      3\u001b[0m                   data_path\u001b[38;5;241m=\u001b[39m\u001b[38;5;124m'\u001b[39m\u001b[38;5;124mpath/to/data/folder\u001b[39m\u001b[38;5;124m'\u001b[39m, annotation_path\u001b[38;5;241m=\u001b[39m\u001b[38;5;124m'\u001b[39m\u001b[38;5;124mpath/to/annotation/folder\u001b[39m\u001b[38;5;124m'\u001b[39m)\n\u001b[0;32m      4\u001b[0m \u001b[38;5;66;03m# set important parameters, like the set labels you want to predict\u001b[39;00m\n\u001b[0;32m      5\u001b[0m project\u001b[38;5;241m.\u001b[39mupdate_parameters(\u001b[38;5;241m.\u001b[39m\u001b[38;5;241m.\u001b[39m\u001b[38;5;241m.\u001b[39m)\n",
      "\u001b[1;31mNameError\u001b[0m: name 'Project' is not defined"
     ]
    }
   ],
   "source": [
    "\n",
    "\n",
    "# create a new project\n",
    "project = Project('project_name', data_type='data_type', annotation_type='annotation_type',\n",
    "                  data_path='path/to/data/folder', annotation_path='path/to/annotation/folder')\n",
    "# set important parameters, like the set labels you want to predict\n",
    "project.update_parameters(...)\n",
    "# run a training episode\n",
    "project.run_episode('episode_1')\n",
    "# plot the results\n",
    "project.plot_episodes(['episode_1'], metrics=['recall'])\n",
    "# use the model trained in episode_1 to make a prediction for new data\n",
    "project.run_prediction('prediction_1', episode_names=['episode_1'], data_path='path/to/new_data/folder')"
   ]
  },
  {
   "cell_type": "code",
   "execution_count": 3,
   "id": "4e0c0a6e-fecd-4cb6-955a-710e2e9f8cf6",
   "metadata": {},
   "outputs": [
    {
     "ename": "SyntaxError",
     "evalue": "invalid syntax (1863434641.py, line 1)",
     "output_type": "error",
     "traceback": [
      "\u001b[1;36m  Cell \u001b[1;32mIn[3], line 1\u001b[1;36m\u001b[0m\n\u001b[1;33m    def data_types()\u001b[0m\n\u001b[1;37m                    ^\u001b[0m\n\u001b[1;31mSyntaxError\u001b[0m\u001b[1;31m:\u001b[0m invalid syntax\n"
     ]
    }
   ],
   "source": [
    "def data_types()"
   ]
  },
  {
   "cell_type": "code",
   "execution_count": 3,
   "id": "835c55a6-922c-47c0-833f-934d56f8c123",
   "metadata": {},
   "outputs": [
    {
     "name": "stderr",
     "output_type": "stream",
     "text": [
      "  % Total    % Received % Xferd  Average Speed   Time    Time     Time  Current\n",
      "                                 Dload  Upload   Total   Spent    Left  Speed\n",
      "\n",
      "  0     0    0     0    0     0      0      0 --:--:-- --:--:-- --:--:--     0\n",
      "100    10  100    10    0     0     19      0 --:--:-- --:--:-- --:--:--    19\n",
      "'apt-get' is not recognized as an internal or external command,\n",
      "operable program or batch file.\n",
      "'unzip' is not recognized as an internal or external command,\n",
      "operable program or batch file.\n",
      "'mv' is not recognized as an internal or external command,\n",
      "operable program or batch file.\n"
     ]
    }
   ],
   "source": [
    "!curl https://transfer.sh/g8t8Vy/OFT.zip -o OFT.zip\n",
    "!apt-get install unzip\n",
    "!unzip OFT.zip -d OFT\n",
    "!mv OFT/OFT/OFT OFT_data"
   ]
  },
  {
   "cell_type": "code",
   "execution_count": null,
   "id": "615020e7-bfc7-4f03-b96e-1d70aac8c401",
   "metadata": {},
   "outputs": [],
   "source": []
  }
 ],
 "metadata": {
  "kernelspec": {
   "display_name": "Python 3 (ipykernel)",
   "language": "python",
   "name": "python3"
  },
  "language_info": {
   "codemirror_mode": {
    "name": "ipython",
    "version": 3
   },
   "file_extension": ".py",
   "mimetype": "text/x-python",
   "name": "python",
   "nbconvert_exporter": "python",
   "pygments_lexer": "ipython3",
   "version": "3.9.13"
  }
 },
 "nbformat": 4,
 "nbformat_minor": 5
}
