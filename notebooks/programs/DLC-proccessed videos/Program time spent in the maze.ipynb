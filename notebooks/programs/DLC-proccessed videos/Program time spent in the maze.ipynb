{
 "cells": [
  {
   "cell_type": "code",
   "execution_count": null,
   "id": "cd3fe307-d3f3-4dfd-8cc1-a07d0f1ea3d0",
   "metadata": {},
   "outputs": [],
   "source": [
    "import csv"
   ]
  },
  {
   "cell_type": "code",
   "execution_count": 8,
   "id": "68ca861a-802b-448d-9791-36081949c89a",
   "metadata": {},
   "outputs": [
    {
     "name": "stdout",
     "output_type": "stream",
     "text": [
      "The mouse spent 77.6 % of the time in the closed arms, with a total of  438.2 seconds\n",
      "The mouse spent 8.2 % of the time in the opened arms, with a total of  46.4 seconds\n",
      "The mouse spent 12.5 % of the time in the middle, with a total of  44.7 seconds\n"
     ]
    }
   ],
   "source": [
    "#Don't forget to import csv \n",
    "\n",
    "#paste the path of your csv file, created while analysing your video of interest with DeeplabCut\n",
    "with open (\"C:\\Documents\\APT 2A\\Stage 2A\\DLC\\Programs\\T3DLC_resnet50_PLUS_MAZE_TEST_TRIAL1Jul27shuffle1_800000.csv\", 'r') as csv_file: \n",
    "    csv_reader = csv.reader(csv_file)    #file is only open in this place (while indented)\n",
    "#    for line in csv_reader : \n",
    "#        print (line)\n",
    "#print (type(csv_reader))\n",
    "\n",
    "    csv_list = list(csv_reader)          #transform object of interest in list type, easier to read and manipulate \n",
    "\n",
    "#I want columns 10 and 11, all lines underneath : contain all coordinates for x and y of the 'center' point, for each frame\n",
    "\n",
    "#    for k in range (1,5): \n",
    " #       print (csv_list[k][10])         #returns all x coordinates for frames of interest\n",
    "  #  print ('\\n')    \n",
    "   # for k in range (1,5): \n",
    "    #    print (csv_list[k][11])         #returns all y coordinates for frames of interest\n",
    "\n",
    "# +maze made by five rectangles : leftRectangle, RightRectangle, TopRectangle; BottomRectangle, plus the Middle. \n",
    "# (leftRectangle, RightRectangle) = closed arms\n",
    "# (TopRectangle; BottomRectangle) = Opened arms\n",
    "# we want to test if the mouse is within the coordinates of each arm for each frame. A variable stores the number of frames where the mouse is in a specific arm for each possibility (opened arms, closed arms or middle)\n",
    "#coordinates of these rectangles : \n",
    "    Lxmin = 284\n",
    "    Lxmax = 576\n",
    "    Lymin = 409\n",
    "    Lymax = 456\n",
    "    \n",
    "    Rxmin = 628\n",
    "    Rxmax = 929\n",
    "    Rymin = 403\n",
    "    Rymax = 451\n",
    "\n",
    "    Txmin = 577\n",
    "    Txmax = 628\n",
    "    Tymin = 110\n",
    "    Tymax = 404\n",
    "    \n",
    "    Bxmin = 579\n",
    "    Bxmax = 632\n",
    "    Bymin = 454\n",
    "    Bymax = 753\n",
    "\n",
    "#coordinates for the center are : \n",
    "    Mxmin = Lxmax\n",
    "    Mxmax = Rxmin\n",
    "    Mymin = Tymax\n",
    "    Mymax = Bymin\n",
    "    \n",
    "    fps = 47.3\n",
    "    \n",
    "    C=0 #variable which will store the number of frames where the mouse is in the closed arms\n",
    "    O=0 #variable which will store the number of frames where the mouse is in the opened arms\n",
    "    M=0 #variable which will store the number of frames where the mouse is in the middle\n",
    "\n",
    "    S=float(csv_list[-1][0]) # number of frames in the video (Size of it)\n",
    "    #We want to exclude the first 6 seconds of the video (time to install the mouse). 6x47,3=288 frames to skip. Se we start at line 291 (first 3 lines aren't coordinates)\n",
    "    for k in range(291, int(S+3+1)):#+3 because we started at the 3rd line, +1 because lists have a natural offset\n",
    "        x=float(csv_list[k][10])\n",
    "        y=float(csv_list[k][11])\n",
    "        if (Lxmin<=x<=Lxmax and Lymin<=y<=Lymax) or (Rxmin<=x<=Rxmax and Rymin<=y<=Rymax): \n",
    "            C+=1\n",
    "        if (Txmin<=x<=Txmax and Tymin<=y<=Tymax) or (Bxmin<=x<=Bxmax and Bymin<=y<=Bymax):\n",
    "            O+=1\n",
    "        if Mxmin<=x<=Mxmax and Mymin<=y<=Mymax:\n",
    "            M+=1\n",
    "    pc = (C/S)*100 #proportion of the time spent by the mouse in the closed arms\n",
    "    tc = C/30 #number of seconds spent by the mouse in the closed arms\n",
    "    \n",
    "    po = (O/S)*100 #proportion of the time spent by the mouse in the opened arms\n",
    "    to = O/30 #number of seconds spent by the mouse in the opened arms\n",
    "\n",
    "    pm = (M/S)*100 #proportion of the time spent by the mouse in the middle\n",
    "    tm = M/fps #number of seconds spent by the mouse in the middle\n",
    "        \n",
    "    print('The mouse spent', round(pc, 1), '% of the time in the closed arms, with a total of ', round(tc, 1), 'seconds')\n",
    "    print('The mouse spent', round(po, 1), '% of the time in the opened arms, with a total of ', round(to, 1), 'seconds')\n",
    "    print('The mouse spent', round(pm, 1), '% of the time in the middle, with a total of ', round(tm, 1), 'seconds')\n",
    "    \n",
    "#Condition for the distance btw neck and center to by satisfied to add +1 to a variable initialized to 0. \n",
    "#when all frames studied, our variable tells the number of frames where the mouse is in the region of interest. \n",
    "#devide it by 30 to obtain the amount of time spent by the mouse near the object ! (can also calculate proportion of vid)"
   ]
  },
  {
   "cell_type": "code",
   "execution_count": null,
   "id": "4226a911-84e8-4f12-aeaa-26147a05ecf7",
   "metadata": {},
   "outputs": [],
   "source": [
    "Results : \n",
    "video 1 : \n",
    "The mouse spent 66.3 % of the time in the closed arms, with a total of  374.5 seconds\n",
    "The mouse spent 15.6 % of the time in the opened arms, with a total of  87.8 seconds\n",
    "The mouse spent 16.4 % of the time in the middle, with a total of  58.7 seconds\n",
    "video 2 : \n",
    "The mouse spent 85.4 % of the time in the closed arms, with a total of  481.9 seconds\n",
    "The mouse spent 2.6 % of the time in the opened arms, with a total of  14.9 seconds\n",
    "The mouse spent 10.3 % of the time in the middle, with a total of  36.8 seconds\n",
    "video 3 : \n",
    "The mouse spent 77.6 % of the time in the closed arms, with a total of  438.2 seconds\n",
    "The mouse spent 8.2 % of the time in the opened arms, with a total of  46.4 seconds\n",
    "The mouse spent 12.5 % of the time in the middle, with a total of  44.7 seconds"
   ]
  },
  {
   "cell_type": "code",
   "execution_count": 1,
   "id": "fb74839e-82a0-481f-b870-4ee8fe8701a2",
   "metadata": {},
   "outputs": [
    {
     "name": "stdout",
     "output_type": "stream",
     "text": [
      "1\n",
      "0\n"
     ]
    }
   ],
   "source": [
    "a=0\n",
    "b=a\n",
    "a=1\n",
    "print(a)\n",
    "print(b)"
   ]
  },
  {
   "cell_type": "code",
   "execution_count": 4,
   "id": "646a7044-a12b-43c3-ac51-53a3d1b2c446",
   "metadata": {},
   "outputs": [
    {
     "name": "stdout",
     "output_type": "stream",
     "text": [
      "bodyparts\n",
      "16935.0\n"
     ]
    }
   ],
   "source": [
    "import csv\n",
    "\n",
    "\n",
    "with open (\"C:\\Documents\\APT 2A\\Stage 2A\\DLC\\Programs\\T1DLC_resnet50_PLUS_MAZE_TEST_TRIAL1Jul27shuffle1_800000.csv\", 'r') as csv_file: \n",
    "    csv_reader = csv.reader(csv_file)    #file is only open in this place (while indented)\n",
    "#    for line in csv_reader : \n",
    "#        print (line)\n",
    "#print (type(csv_reader))\n",
    "\n",
    "    csv_list = list(csv_reader)          #transform object of interest in list type, easier to read and manipulate \n",
    "    print (csv_list[1][0])\n",
    "    print (float(csv_list[-1][0]))\n"
   ]
  },
  {
   "cell_type": "code",
   "execution_count": null,
   "id": "3da01abd-790a-401d-adcf-0c4fdbe3e0f1",
   "metadata": {},
   "outputs": [],
   "source": []
  }
 ],
 "metadata": {
  "kernelspec": {
   "display_name": "Python 3 (ipykernel)",
   "language": "python",
   "name": "python3"
  },
  "language_info": {
   "codemirror_mode": {
    "name": "ipython",
    "version": 3
   },
   "file_extension": ".py",
   "mimetype": "text/x-python",
   "name": "python",
   "nbconvert_exporter": "python",
   "pygments_lexer": "ipython3",
   "version": "3.8.15"
  }
 },
 "nbformat": 4,
 "nbformat_minor": 5
}
