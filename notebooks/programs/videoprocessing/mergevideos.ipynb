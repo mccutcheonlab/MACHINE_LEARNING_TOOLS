{
 "cells": [
  {
   "cell_type": "code",
   "execution_count": null,
   "id": "1d4c42bb-4290-4ea4-a903-26507555d8d5",
   "metadata": {},
   "outputs": [],
   "source": [
    "#Program to merge several videos into a bigger one "
   ]
  },
  {
   "cell_type": "code",
   "execution_count": null,
   "id": "7f3239b7-fb96-4726-9972-85b280e1ca2f",
   "metadata": {},
   "outputs": [],
   "source": [
    "#Both programs coming from https://stackoverflow.com/questions/61289741/concatenate-2-videos-into-1-using-python"
   ]
  },
  {
   "cell_type": "code",
   "execution_count": 1,
   "id": "1ebaf438-aa2a-433d-971e-552b7485dac2",
   "metadata": {
    "collapsed": true,
    "jupyter": {
     "outputs_hidden": true
    },
    "tags": []
   },
   "outputs": [
    {
     "ename": "OSError",
     "evalue": "MoviePy error: the file 1.avi could not be found!\nPlease check that you entered the correct path.",
     "output_type": "error",
     "traceback": [
      "\u001b[1;31m---------------------------------------------------------------------------\u001b[0m",
      "\u001b[1;31mOSError\u001b[0m                                   Traceback (most recent call last)",
      "Cell \u001b[1;32mIn[1], line 4\u001b[0m\n\u001b[0;32m      1\u001b[0m \u001b[38;5;28;01mfrom\u001b[39;00m \u001b[38;5;21;01mmoviepy\u001b[39;00m\u001b[38;5;21;01m.\u001b[39;00m\u001b[38;5;21;01meditor\u001b[39;00m \u001b[38;5;28;01mimport\u001b[39;00m VideoFileClip, concatenate_videoclips\n\u001b[1;32m----> 4\u001b[0m clip_1 \u001b[38;5;241m=\u001b[39m \u001b[43mVideoFileClip\u001b[49m\u001b[43m(\u001b[49m\u001b[38;5;124;43m\"\u001b[39;49m\u001b[38;5;124;43m1.avi\u001b[39;49m\u001b[38;5;124;43m\"\u001b[39;49m\u001b[43m)\u001b[49m\n\u001b[0;32m      5\u001b[0m clip_2 \u001b[38;5;241m=\u001b[39m VideoFileClip(\u001b[38;5;124m\"\u001b[39m\u001b[38;5;124m2.avi\u001b[39m\u001b[38;5;124m\"\u001b[39m)\n\u001b[0;32m      6\u001b[0m clip_3 \u001b[38;5;241m=\u001b[39m VideoFileClip(\u001b[38;5;124m\"\u001b[39m\u001b[38;5;124m3.avi\u001b[39m\u001b[38;5;124m\"\u001b[39m)\n",
      "File \u001b[1;32mC:\\ProgramData\\anaconda3\\envs\\video\\lib\\site-packages\\moviepy\\video\\io\\VideoFileClip.py:88\u001b[0m, in \u001b[0;36mVideoFileClip.__init__\u001b[1;34m(self, filename, has_mask, audio, audio_buffersize, target_resolution, resize_algorithm, audio_fps, audio_nbytes, verbose, fps_source)\u001b[0m\n\u001b[0;32m     86\u001b[0m \u001b[38;5;66;03m# Make a reader\u001b[39;00m\n\u001b[0;32m     87\u001b[0m pix_fmt \u001b[38;5;241m=\u001b[39m \u001b[38;5;124m\"\u001b[39m\u001b[38;5;124mrgba\u001b[39m\u001b[38;5;124m\"\u001b[39m \u001b[38;5;28;01mif\u001b[39;00m has_mask \u001b[38;5;28;01melse\u001b[39;00m \u001b[38;5;124m\"\u001b[39m\u001b[38;5;124mrgb24\u001b[39m\u001b[38;5;124m\"\u001b[39m\n\u001b[1;32m---> 88\u001b[0m \u001b[38;5;28mself\u001b[39m\u001b[38;5;241m.\u001b[39mreader \u001b[38;5;241m=\u001b[39m \u001b[43mFFMPEG_VideoReader\u001b[49m\u001b[43m(\u001b[49m\u001b[43mfilename\u001b[49m\u001b[43m,\u001b[49m\u001b[43m \u001b[49m\u001b[43mpix_fmt\u001b[49m\u001b[38;5;241;43m=\u001b[39;49m\u001b[43mpix_fmt\u001b[49m\u001b[43m,\u001b[49m\n\u001b[0;32m     89\u001b[0m \u001b[43m                                 \u001b[49m\u001b[43mtarget_resolution\u001b[49m\u001b[38;5;241;43m=\u001b[39;49m\u001b[43mtarget_resolution\u001b[49m\u001b[43m,\u001b[49m\n\u001b[0;32m     90\u001b[0m \u001b[43m                                 \u001b[49m\u001b[43mresize_algo\u001b[49m\u001b[38;5;241;43m=\u001b[39;49m\u001b[43mresize_algorithm\u001b[49m\u001b[43m,\u001b[49m\n\u001b[0;32m     91\u001b[0m \u001b[43m                                 \u001b[49m\u001b[43mfps_source\u001b[49m\u001b[38;5;241;43m=\u001b[39;49m\u001b[43mfps_source\u001b[49m\u001b[43m)\u001b[49m\n\u001b[0;32m     93\u001b[0m \u001b[38;5;66;03m# Make some of the reader's attributes accessible from the clip\u001b[39;00m\n\u001b[0;32m     94\u001b[0m \u001b[38;5;28mself\u001b[39m\u001b[38;5;241m.\u001b[39mduration \u001b[38;5;241m=\u001b[39m \u001b[38;5;28mself\u001b[39m\u001b[38;5;241m.\u001b[39mreader\u001b[38;5;241m.\u001b[39mduration\n",
      "File \u001b[1;32mC:\\ProgramData\\anaconda3\\envs\\video\\lib\\site-packages\\moviepy\\video\\io\\ffmpeg_reader.py:35\u001b[0m, in \u001b[0;36mFFMPEG_VideoReader.__init__\u001b[1;34m(self, filename, print_infos, bufsize, pix_fmt, check_duration, target_resolution, resize_algo, fps_source)\u001b[0m\n\u001b[0;32m     33\u001b[0m \u001b[38;5;28mself\u001b[39m\u001b[38;5;241m.\u001b[39mfilename \u001b[38;5;241m=\u001b[39m filename\n\u001b[0;32m     34\u001b[0m \u001b[38;5;28mself\u001b[39m\u001b[38;5;241m.\u001b[39mproc \u001b[38;5;241m=\u001b[39m \u001b[38;5;28;01mNone\u001b[39;00m\n\u001b[1;32m---> 35\u001b[0m infos \u001b[38;5;241m=\u001b[39m \u001b[43mffmpeg_parse_infos\u001b[49m\u001b[43m(\u001b[49m\u001b[43mfilename\u001b[49m\u001b[43m,\u001b[49m\u001b[43m \u001b[49m\u001b[43mprint_infos\u001b[49m\u001b[43m,\u001b[49m\u001b[43m \u001b[49m\u001b[43mcheck_duration\u001b[49m\u001b[43m,\u001b[49m\n\u001b[0;32m     36\u001b[0m \u001b[43m                           \u001b[49m\u001b[43mfps_source\u001b[49m\u001b[43m)\u001b[49m\n\u001b[0;32m     37\u001b[0m \u001b[38;5;28mself\u001b[39m\u001b[38;5;241m.\u001b[39mfps \u001b[38;5;241m=\u001b[39m infos[\u001b[38;5;124m'\u001b[39m\u001b[38;5;124mvideo_fps\u001b[39m\u001b[38;5;124m'\u001b[39m]\n\u001b[0;32m     38\u001b[0m \u001b[38;5;28mself\u001b[39m\u001b[38;5;241m.\u001b[39msize \u001b[38;5;241m=\u001b[39m infos[\u001b[38;5;124m'\u001b[39m\u001b[38;5;124mvideo_size\u001b[39m\u001b[38;5;124m'\u001b[39m]\n",
      "File \u001b[1;32mC:\\ProgramData\\anaconda3\\envs\\video\\lib\\site-packages\\moviepy\\video\\io\\ffmpeg_reader.py:270\u001b[0m, in \u001b[0;36mffmpeg_parse_infos\u001b[1;34m(filename, print_infos, check_duration, fps_source)\u001b[0m\n\u001b[0;32m    268\u001b[0m lines \u001b[38;5;241m=\u001b[39m infos\u001b[38;5;241m.\u001b[39msplitlines()\n\u001b[0;32m    269\u001b[0m \u001b[38;5;28;01mif\u001b[39;00m \u001b[38;5;124m\"\u001b[39m\u001b[38;5;124mNo such file or directory\u001b[39m\u001b[38;5;124m\"\u001b[39m \u001b[38;5;129;01min\u001b[39;00m lines[\u001b[38;5;241m-\u001b[39m\u001b[38;5;241m1\u001b[39m]:\n\u001b[1;32m--> 270\u001b[0m     \u001b[38;5;28;01mraise\u001b[39;00m \u001b[38;5;167;01mIOError\u001b[39;00m((\u001b[38;5;124m\"\u001b[39m\u001b[38;5;124mMoviePy error: the file \u001b[39m\u001b[38;5;132;01m%s\u001b[39;00m\u001b[38;5;124m could not be found!\u001b[39m\u001b[38;5;130;01m\\n\u001b[39;00m\u001b[38;5;124m\"\u001b[39m\n\u001b[0;32m    271\u001b[0m                   \u001b[38;5;124m\"\u001b[39m\u001b[38;5;124mPlease check that you entered the correct \u001b[39m\u001b[38;5;124m\"\u001b[39m\n\u001b[0;32m    272\u001b[0m                   \u001b[38;5;124m\"\u001b[39m\u001b[38;5;124mpath.\u001b[39m\u001b[38;5;124m\"\u001b[39m)\u001b[38;5;241m%\u001b[39mfilename)\n\u001b[0;32m    274\u001b[0m result \u001b[38;5;241m=\u001b[39m \u001b[38;5;28mdict\u001b[39m()\n\u001b[0;32m    277\u001b[0m \u001b[38;5;66;03m# get duration (in seconds)\u001b[39;00m\n",
      "\u001b[1;31mOSError\u001b[0m: MoviePy error: the file 1.avi could not be found!\nPlease check that you entered the correct path."
     ]
    }
   ],
   "source": [
    "from moviepy.editor import VideoFileClip, concatenate_videoclips\n",
    "\n",
    "#list below all the video you wish to concatenate in one : \n",
    "clip_0 = VideoFileClip(\"0.avi\")\n",
    "clip_1 = VideoFileClip(\"1.avi\")\n",
    "clip_2 = VideoFileClip(\"2.avi\")\n",
    "clip_3 = VideoFileClip(\"3.avi\")\n",
    "clip_4 = VideoFileClip(\"4.avi\")\n",
    "clip_5 = VideoFileClip(\"5.avi\")\n",
    "clip_6 = VideoFileClip(\"6.avi\")\n",
    "clip_7 = VideoFileClip(\"7.avi\")\n",
    "clip_8 = VideoFileClip(\"8.avi\")\n",
    "clip_9 = VideoFileClip(\"9.avi\")\n",
    "clip_10 = VideoFileClip(\"10.avi\")\n",
    "clip_11 = VideoFileClip(\"11.avi\")\n",
    "clip_12 = VideoFileClip(\"12.avi\")\n",
    "clip_13 = VideoFileClip(\"13.avi\")\n",
    "clip_14 = VideoFileClip(\"14.avi\")\n",
    "clip_15 = VideoFileClip(\"15.avi\")\n",
    "clip_16 = VideoFileClip(\"16.avi\")\n",
    "\n",
    "final_clip = concatenate_videoclips([clip_0,clip_1,clip_2,clip_3,clip_4,clip_5,clip_6,clip_7,clip_8,clip_9,clip_10,clip_11,clip_12,clip_13,clip_14,clip_15,clip_16])\n",
    "final_clip.write_videofile(\"T1.mp4\") #enter the complete path (including name) of the new video you want to create\n",
    "\n",
    "#Works fine, produces much smaller videos in terms of storage space than the program below !"
   ]
  },
  {
   "cell_type": "code",
   "execution_count": 1,
   "id": "fac4078f-7d7d-4703-8f09-7f50ae2e281b",
   "metadata": {
    "tags": []
   },
   "outputs": [
    {
     "name": "stdout",
     "output_type": "stream",
     "text": [
      "T1.mp4\n",
      "T2.mp4\n",
      "T3.mp4\n"
     ]
    }
   ],
   "source": [
    "#Backup program, if you happen to have an issue with the one above\n",
    "\n",
    "import cv2 as cv\n",
    "\n",
    "# A list of the paths of your videos to concatenate \n",
    "files = [\"T1.mp4\", \"T2.mp4\", \"T3.mp4\"]\n",
    "\n",
    "#get the properties of videos \n",
    "cap = cv.VideoCapture(files[0])\n",
    "height = int(cap.get(cv.CAP_PROP_FRAME_HEIGHT))\n",
    "width = int(cap.get(cv.CAP_PROP_FRAME_WIDTH))\n",
    "resolution = (width, height)\n",
    "fps = cap.get(cv.CAP_PROP_FPS)\n",
    "cap.release()\n",
    "\n",
    "# Create a new video\n",
    "video = cv.VideoWriter(\"new_video.mp4\", cv.VideoWriter_fourcc(*\"mp4v\"), fps, resolution)\n",
    "\n",
    "# Write all the frames sequentially to the new video\n",
    "for T in files:\n",
    "    print(T)\n",
    "    curr_v = cv.VideoCapture(T)\n",
    "    while curr_v.isOpened():\n",
    "        # Get return value and curr frame of curr video\n",
    "        r, frame = curr_v.read()\n",
    "        if not r:\n",
    "            break\n",
    "        # Write the frame\n",
    "        video.write(frame)\n",
    "\n",
    "# Save the video\n",
    "video.release()\n",
    "print('Done !')\n",
    "#This program gives out the video we want but 5 time bigger than expected (1.9 Go compared to 250 Mo expected roughly)"
   ]
  },
  {
   "cell_type": "code",
   "execution_count": null,
   "id": "55aaf063-ef3d-4bc1-ba89-4ff957f6105c",
   "metadata": {},
   "outputs": [],
   "source": []
  }
 ],
 "metadata": {
  "kernelspec": {
   "display_name": "Python 3 (ipykernel)",
   "language": "python",
   "name": "python3"
  },
  "language_info": {
   "codemirror_mode": {
    "name": "ipython",
    "version": 3
   },
   "file_extension": ".py",
   "mimetype": "text/x-python",
   "name": "python",
   "nbconvert_exporter": "python",
   "pygments_lexer": "ipython3",
   "version": "3.8.16"
  }
 },
 "nbformat": 4,
 "nbformat_minor": 5
}
