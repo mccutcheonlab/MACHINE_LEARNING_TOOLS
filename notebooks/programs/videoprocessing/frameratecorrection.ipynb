{
 "cells": [
  {
   "cell_type": "code",
   "execution_count": null,
   "id": "6e408cd1-a13d-498c-ae56-a52cf847d942",
   "metadata": {},
   "outputs": [],
   "source": [
    "#When recording a video with our Minicam through the Miniscop DAQ software, we are only able to get 60 FPS videos, even though the video was recorded at 24 fps for example.\n",
    "#So for example if I record a 10 seconds long video with an average FPS of 24 with the Minicam, it will be stored as a 4 to 5 seconds video at 60 fps. \n",
    "#I therefore created this program to convert these videos into what we want : with our example ahead a 10 seconds 24 fps video. "
   ]
  },
  {
   "cell_type": "code",
   "execution_count": null,
   "id": "d11733a0-a6a8-4755-a8ee-ee321b83a354",
   "metadata": {},
   "outputs": [],
   "source": [
    "#Minicam oddity : When set to 50 (40) fps, we get a 45(24)ish fps video. So in the previous cell I talk about real fps, not \"expected\" ones"
   ]
  },
  {
   "cell_type": "code",
   "execution_count": 9,
   "id": "b2fd8971-7829-4143-9fec-ec77f9b8bfe1",
   "metadata": {
    "tags": []
   },
   "outputs": [],
   "source": [
    "#This program is strongly inspired by two programs I found on the internet on the following links : \n",
    "#https://www.geeksforgeeks.org/creating-a-slow-motion-video-using-opencv-python/\n",
    "#https://www.codespeedy.com/creating-a-slow-motion-video-using-opencv-in-python/#:~:text=Play%20video%20in%20slow%20motion%20in%20Python%20using,n%22%29%29%20cap%20%3D%20cv2.VideoCapture%28fileName%29%20%23%20load%20the%20video\n",
    "\n",
    "import cv2 as cv\n",
    "\n",
    "file = \"..//data//0.avi\" #path of the video we want to edit\n",
    "\n",
    "cap = cv.VideoCapture(file)\n",
    "height = int(cap.get(cv.CAP_PROP_FRAME_HEIGHT))\n",
    "width = int(cap.get(cv.CAP_PROP_FRAME_WIDTH))\n",
    "fps = cap.get(cv.CAP_PROP_FPS)\n",
    "\n",
    "path = \"SlowedVideo.mp4\" #path of the video we want to create\n",
    "fourcc = cv.VideoWriter_fourcc(*'mp4v')\n",
    "output = cv.VideoWriter(path, fourcc, 24.2, #figure right here sets the number of fps we want in the newly stored video, we can either calculate it with the TimeStamps csv file we get in the recording folder or look on the Minicam UI the average fps during the experiment\n",
    "                        (width, height))\n",
    "\n",
    "while True: \n",
    "    ret, frame = cap.read()\n",
    "    if ret == True : #if the next frame does exist\n",
    "        output.write(frame)\n",
    "\n",
    "    else : \n",
    "        break\n",
    "\n",
    "cap.release()\n",
    "output.release()"
   ]
  },
  {
   "cell_type": "code",
   "execution_count": 12,
   "id": "e59f100e-8a67-438e-a360-af1a509cdb57",
   "metadata": {
    "tags": []
   },
   "outputs": [],
   "source": [
    "#Same program but displaying the slowed video as it is created (caution : if you exit the program before the video has ended, the remaining part of the video wont be stored)\n",
    "import cv2 as cv\n",
    "\n",
    "file = \"..//data//0.avi\" #path of the video we want to edit\n",
    "\n",
    "cap = cv.VideoCapture(file)\n",
    "height = int(cap.get(cv.CAP_PROP_FRAME_HEIGHT))\n",
    "width = int(cap.get(cv.CAP_PROP_FRAME_WIDTH))\n",
    "fps = cap.get(cv.CAP_PROP_FPS)\n",
    "\n",
    "path = \"SlowedVideo.mp4\"#path of the video we want to create\n",
    "fourcc = cv.VideoWriter_fourcc(*'mp4v')\n",
    "output = cv.VideoWriter(path, fourcc, 24.2, #figure right here sets the number of fps we want in the newly stored video, we can either calculate it with the TimeStamps csv file we get in the recording folder or look on the Minicam UI the average fps during the experiment\n",
    "\t\t\t\t\t\t(width, height))\n",
    "\n",
    "while True: \n",
    "    ret, frame = cap.read()\n",
    "    if ret == True :\n",
    "        cv.imshow(\"frame\", frame)\n",
    "        output.write(frame)\n",
    "        k = cv.waitKey(10) #figure in here sets the length of the displayed video (you want to put the expected length of the video, set on the app when you recorded it)\n",
    "        if k == ord(\"q\"): #if you want to exit the program, type q when the running video window is shown up. will set out a shortened video\n",
    "            break\n",
    "    else : \n",
    "        break\n",
    "\n",
    "cap.release()\n",
    "output.release()\n",
    "cv.destroyAllWindows()\n"
   ]
  },
  {
   "cell_type": "code",
   "execution_count": null,
   "id": "1d9ff0ef-0742-4e28-aadd-49e81358d054",
   "metadata": {},
   "outputs": [],
   "source": []
  }
 ],
 "metadata": {
  "kernelspec": {
   "display_name": "Python 3 (ipykernel)",
   "language": "python",
   "name": "python3"
  },
  "language_info": {
   "codemirror_mode": {
    "name": "ipython",
    "version": 3
   },
   "file_extension": ".py",
   "mimetype": "text/x-python",
   "name": "python",
   "nbconvert_exporter": "python",
   "pygments_lexer": "ipython3",
   "version": "3.8.16"
  }
 },
 "nbformat": 4,
 "nbformat_minor": 5
}
