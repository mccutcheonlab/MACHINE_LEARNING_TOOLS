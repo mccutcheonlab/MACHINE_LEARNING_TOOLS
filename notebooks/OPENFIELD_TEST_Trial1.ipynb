{
 "cells": [
  {
   "cell_type": "code",
   "execution_count": 1,
   "id": "242ce8d5-5ba6-4e8a-b533-fc84031a0e9f",
   "metadata": {},
   "outputs": [
    {
     "name": "stdout",
     "output_type": "stream",
     "text": [
      "Loading DLC 2.2.3...\n"
     ]
    }
   ],
   "source": [
    "import deeplabcut"
   ]
  },
  {
   "cell_type": "code",
   "execution_count": 2,
   "id": "384a7d78-2af5-4b22-aaff-084af96f902b",
   "metadata": {
    "collapsed": true,
    "jupyter": {
     "outputs_hidden": true
    },
    "tags": []
   },
   "outputs": [
    {
     "data": {
      "text/plain": [
       "['CropVideo',\n",
       " 'DEBUG',\n",
       " 'DownSampleVideo',\n",
       " 'ShortenVideo',\n",
       " 'VERSION',\n",
       " '__builtins__',\n",
       " '__cached__',\n",
       " '__doc__',\n",
       " '__file__',\n",
       " '__loader__',\n",
       " '__name__',\n",
       " '__package__',\n",
       " '__path__',\n",
       " '__spec__',\n",
       " '__version__',\n",
       " 'add_new_videos',\n",
       " 'adddatasetstovideolistandviceversa',\n",
       " 'analyze_time_lapse_frames',\n",
       " 'analyze_videos',\n",
       " 'analyze_videos_converth5_to_csv',\n",
       " 'analyzeskeleton',\n",
       " 'auxfun_videos',\n",
       " 'auxiliaryfunctions',\n",
       " 'calibrate_cameras',\n",
       " 'check_labels',\n",
       " 'check_undistortion',\n",
       " 'check_video_integrity',\n",
       " 'comparevideolistsanddatafolders',\n",
       " 'convert2_maDLC',\n",
       " 'convert_detections2tracklets',\n",
       " 'convertcsv2h5',\n",
       " 'create_labeled_video',\n",
       " 'create_labeled_video_3d',\n",
       " 'create_multianimaltraining_dataset',\n",
       " 'create_new_project',\n",
       " 'create_new_project_3d',\n",
       " 'create_pretrained_human_project',\n",
       " 'create_pretrained_project',\n",
       " 'create_project',\n",
       " 'create_training_dataset',\n",
       " 'create_training_model_comparison',\n",
       " 'create_video_with_all_detections',\n",
       " 'dropannotationfileentriesduetodeletedimages',\n",
       " 'dropduplicatesinannotatinfiles',\n",
       " 'dropimagesduetolackofannotation',\n",
       " 'evaluate_network',\n",
       " 'export_model',\n",
       " 'extract_frames',\n",
       " 'extract_maps',\n",
       " 'extract_outlier_frames',\n",
       " 'extract_save_all_maps',\n",
       " 'filterpredictions',\n",
       " 'find_outliers_in_raw_data',\n",
       " 'generate_training_dataset',\n",
       " 'load_demo_data',\n",
       " 'merge_datasets',\n",
       " 'mergeandsplit',\n",
       " 'mpl',\n",
       " 'os',\n",
       " 'plot_trajectories',\n",
       " 'pose_estimation_3d',\n",
       " 'pose_estimation_tensorflow',\n",
       " 'post_processing',\n",
       " 'refine_training_dataset',\n",
       " 'return_evaluate_network_data',\n",
       " 'return_train_network_path',\n",
       " 'stitch_tracklets',\n",
       " 'tf',\n",
       " 'train_network',\n",
       " 'triangulate',\n",
       " 'utils',\n",
       " 'version',\n",
       " 'visualize_locrefs',\n",
       " 'visualize_paf',\n",
       " 'visualize_scoremaps']"
      ]
     },
     "execution_count": 2,
     "metadata": {},
     "output_type": "execute_result"
    }
   ],
   "source": [
    "dir(deeplabcut)"
   ]
  },
  {
   "cell_type": "code",
   "execution_count": 21,
   "id": "ae39d34f-624d-4751-971d-0953e122ea7b",
   "metadata": {},
   "outputs": [
    {
     "name": "stdout",
     "output_type": "stream",
     "text": [
      "Project \"C:\\Users\\hta031\\Github\\DLC\\OPEN_FIELD_WORKING_DIRECTORY\\OPEN_FIELD_TEST_TRIAL1-Hamid-2023-02-08\" already exists!\n"
     ]
    }
   ],
   "source": [
    "config_path=deeplabcut.create_new_project(\"OPEN_FIELD_TEST_TRIAL1\",\"Hamid\",[\"C:\\\\Users\\\\hta031\\\\Github\\DLC\\\\Video_Reposit\\\\OPENFIELD\\\\training_videos\\\\OPENFIELD_TRAINING (1).mp4\",\"C:\\\\Users\\\\hta031\\\\Github\\\\DLC\\\\Video_Reposit\\\\OPENFIELD\\\\training_videos\\\\OPENFIELD_TRAINING (2).mp4\",\"C:\\\\Users\\\\hta031\\\\Github\\\\DLC\\\\Video_Reposit\\\\OPENFIELD\\\\training_videos\\\\OPENFIELD_TRAINING (3).mp4\",\"C:\\\\Users\\\\hta031\\\\Github\\\\DLC\\\\Video_Reposit\\\\OPENFIELD\\\\training_videos\\\\OPENFIELD_TRAINING (4).mp4\",\"C:\\\\Users\\\\hta031\\\\Github\\\\DLC\\\\Video_Reposit\\\\OPENFIELD\\\\training_videos\\\\OPENFIELD_TRAINING (5).mp4\",\"C:\\\\Users\\\\hta031\\\\Github\\\\DLC\\\\Video_Reposit\\\\OPENFIELD\\\\training_videos\\\\OPENFIELD_TRAINING (6).mp4\"],working_directory=\"C:\\\\Users\\\\hta031\\\\Github\\\\DLC\\\\OPEN_FIELD_WORKING_DIRECTORY\",copy_videos= False, multianimal= False)"
   ]
  },
  {
   "cell_type": "code",
   "execution_count": 2,
   "id": "bd78d6c4",
   "metadata": {},
   "outputs": [],
   "source": [
    "config_path= r\"\"\n",
    "config_path=r\"C:\\DLC_2\\config.yaml\""
   ]
  },
  {
   "cell_type": "code",
   "execution_count": 22,
   "id": "6f407d5c-26d2-41e5-8543-3b14e192e7ca",
   "metadata": {
    "collapsed": true,
    "jupyter": {
     "outputs_hidden": true
    },
    "tags": []
   },
   "outputs": [
    {
     "name": "stdout",
     "output_type": "stream",
     "text": [
      "Config file read successfully.\n",
      "Extracting frames based on kmeans ...\n",
      "Kmeans-quantization based extracting of frames from 0.0  seconds to 169.0  seconds.\n",
      "Extracting and downsampling... 5070  frames from the video.\n"
     ]
    },
    {
     "name": "stderr",
     "output_type": "stream",
     "text": [
      "5070it [01:09, 73.29it/s]\n"
     ]
    },
    {
     "name": "stdout",
     "output_type": "stream",
     "text": [
      "Kmeans clustering ... (this might take a while)\n",
      "Extracting frames based on kmeans ...\n",
      "Kmeans-quantization based extracting of frames from 0.0  seconds to 162.0  seconds.\n",
      "Extracting and downsampling... 4860  frames from the video.\n"
     ]
    },
    {
     "name": "stderr",
     "output_type": "stream",
     "text": [
      "4860it [01:08, 71.01it/s]\n"
     ]
    },
    {
     "name": "stdout",
     "output_type": "stream",
     "text": [
      "Kmeans clustering ... (this might take a while)\n",
      "Extracting frames based on kmeans ...\n",
      "Kmeans-quantization based extracting of frames from 0.0  seconds to 164.0  seconds.\n",
      "Extracting and downsampling... 4920  frames from the video.\n"
     ]
    },
    {
     "name": "stderr",
     "output_type": "stream",
     "text": [
      "4920it [01:32, 53.14it/s]\n"
     ]
    },
    {
     "name": "stdout",
     "output_type": "stream",
     "text": [
      "Kmeans clustering ... (this might take a while)\n",
      "Extracting frames based on kmeans ...\n",
      "Kmeans-quantization based extracting of frames from 0.0  seconds to 161.0  seconds.\n",
      "Extracting and downsampling... 4830  frames from the video.\n"
     ]
    },
    {
     "name": "stderr",
     "output_type": "stream",
     "text": [
      "4830it [01:10, 68.07it/s]\n"
     ]
    },
    {
     "name": "stdout",
     "output_type": "stream",
     "text": [
      "Kmeans clustering ... (this might take a while)\n",
      "Extracting frames based on kmeans ...\n",
      "Kmeans-quantization based extracting of frames from 0.0  seconds to 165.0  seconds.\n",
      "Extracting and downsampling... 4950  frames from the video.\n"
     ]
    },
    {
     "name": "stderr",
     "output_type": "stream",
     "text": [
      "4950it [01:11, 68.87it/s]\n"
     ]
    },
    {
     "name": "stdout",
     "output_type": "stream",
     "text": [
      "Kmeans clustering ... (this might take a while)\n",
      "Extracting frames based on kmeans ...\n",
      "Kmeans-quantization based extracting of frames from 0.0  seconds to 166.0  seconds.\n",
      "Extracting and downsampling... 4980  frames from the video.\n"
     ]
    },
    {
     "name": "stderr",
     "output_type": "stream",
     "text": [
      "4980it [01:11, 69.95it/s]\n"
     ]
    },
    {
     "name": "stdout",
     "output_type": "stream",
     "text": [
      "Kmeans clustering ... (this might take a while)\n",
      "Frames were successfully extracted, for the videos listed in the config.yaml file.\n",
      "\n",
      "You can now label the frames using the function 'label_frames' (Note, you should label frames extracted from diverse videos (and many videos; we do not recommend training on single videos!)).\n"
     ]
    }
   ],
   "source": [
    "deeplabcut.extract_frames(config_path, mode='automatic', algo='kmeans', userfeedback=False, crop=False)"
   ]
  },
  {
   "cell_type": "code",
   "execution_count": 25,
   "id": "26242ac1-0ef9-4c7f-bbea-b6730686d113",
   "metadata": {},
   "outputs": [
    {
     "name": "stdout",
     "output_type": "stream",
     "text": [
      "You can now check the labels, using 'check_labels' before proceeding. Then, you can use the function 'create_training_dataset' to create the training dataset.\n"
     ]
    }
   ],
   "source": [
    "deeplabcut.label_frames(config_path)"
   ]
  },
  {
   "cell_type": "code",
   "execution_count": 28,
   "id": "cb34c12e-5f55-4539-890a-6640d3648f33",
   "metadata": {},
   "outputs": [
    {
     "name": "stdout",
     "output_type": "stream",
     "text": [
      "Creating images with labels by Hamid.\n"
     ]
    },
    {
     "name": "stderr",
     "output_type": "stream",
     "text": [
      "100%|████████████████████████████████████████████████████████████████████████████████| 25/25 [00:29<00:00,  1.17s/it]\n",
      "100%|████████████████████████████████████████████████████████████████████████████████| 25/25 [00:29<00:00,  1.19s/it]\n",
      "100%|████████████████████████████████████████████████████████████████████████████████| 25/25 [00:29<00:00,  1.17s/it]\n",
      "100%|████████████████████████████████████████████████████████████████████████████████| 25/25 [00:29<00:00,  1.17s/it]\n",
      "100%|████████████████████████████████████████████████████████████████████████████████| 25/25 [00:31<00:00,  1.24s/it]\n",
      "100%|████████████████████████████████████████████████████████████████████████████████| 25/25 [00:30<00:00,  1.23s/it]"
     ]
    },
    {
     "name": "stdout",
     "output_type": "stream",
     "text": [
      "If all the labels are ok, then use the function 'create_training_dataset' to create the training dataset!\n"
     ]
    },
    {
     "name": "stderr",
     "output_type": "stream",
     "text": [
      "\n"
     ]
    }
   ],
   "source": [
    "deeplabcut.check_labels(config_path)"
   ]
  },
  {
   "cell_type": "code",
   "execution_count": 30,
   "id": "284325a1-86c3-408f-927b-171864025623",
   "metadata": {},
   "outputs": [],
   "source": [
    "#train_network\n",
    "#deeplabcut.train_network(config_path)\n",
    "#deeplabcut.train_network(config_path, shuffle=1, trainingsetindex=0, gputouse=None, max_snapshots_to_keep=5, autotune=False, displayiters=100, saveiters=15000, maxiters=30000, allow_growth=True)\n",
    "\n",
    "#Evaluate trained network\n",
    "#deeplabcut.evaluate_network(config_path,Shuffles=[1], plotting=True)\n",
    "\n",
    "#Evaluate a novel video:\n",
    "#deeplabcut.analyze_videos(config_path, ['fullpath/analysis/project/videos/reachingvideo1.avi'], save_as_csv=True)\n",
    "#deeplabcut.analyze_videos(config_path, videos, videotype='avi', shuffle=1, trainingsetindex=0, gputouse=None, save_as_csv=False, destfolder=None, dynamic=(True, .5, 10))"
   ]
  },
  {
   "cell_type": "code",
   "execution_count": 5,
   "id": "4a250a5b",
   "metadata": {},
   "outputs": [
    {
     "name": "stdout",
     "output_type": "stream",
     "text": [
      "The training dataset is successfully created. Use the function 'train_network' to start training. Happy training!\n"
     ]
    },
    {
     "data": {
      "text/plain": [
       "[(0.95,\n",
       "  1,\n",
       "  (array([131,  82,  68,   2,  27,  93,  71, 130, 134,  65,  19,   1, 138,\n",
       "          114, 144,  16, 105,  35, 125,  55,  30,  47,   7, 139,  87, 123,\n",
       "          109,  99,  37, 103,  34,  67, 129, 115,  39,  46,  51,  36,  60,\n",
       "          101, 102, 100, 132,  12, 104,  48,  63,  17, 121,  18, 145,  31,\n",
       "           69, 106, 135,   3,  43, 113,  86,  98,  77,  45, 141, 108,  76,\n",
       "           89, 127,   4,  90,  42, 133, 136, 126,  58, 148,  53,  88,  92,\n",
       "          147,  95,   5,  61,  14,  33,  29,  56, 124,  13,  11,  49,   0,\n",
       "           57,  73,  15, 112,   8,  25, 146,  70,  66,  22,  97,  24,  38,\n",
       "           50, 107, 142,  96, 137, 149,  32, 128,  72,  85,   9, 110,  20,\n",
       "           54,  83,  79, 111,  84,  81,  23, 119, 117,  64,  40,  74, 122,\n",
       "           91,  62, 118,  80,  78,  44,  75,  59,  52,  10,  28, 140]),\n",
       "   array([120,  21,  94, 143,   6, 116,  26,  41])))]"
      ]
     },
     "execution_count": 5,
     "metadata": {},
     "output_type": "execute_result"
    }
   ],
   "source": [
    "deeplabcut.create_training_dataset(config_path)"
   ]
  },
  {
   "cell_type": "code",
   "execution_count": 6,
   "id": "ab59cf71-bf30-4482-a336-81e7d6b8b694",
   "metadata": {
    "collapsed": true,
    "jupyter": {
     "outputs_hidden": true
    },
    "tags": []
   },
   "outputs": [
    {
     "name": "stderr",
     "output_type": "stream",
     "text": [
      "Config:\n",
      "{'all_joints': [[0], [1], [2], [3], [4], [5], [6], [7]],\n",
      " 'all_joints_names': ['LEFTEAR',\n",
      "                      'NOSE',\n",
      "                      'RIGHTEAR',\n",
      "                      'NECK',\n",
      "                      'BACK',\n",
      "                      'TAILBASE',\n",
      "                      'TAILMID',\n",
      "                      'TAILEND'],\n",
      " 'alpha_r': 0.02,\n",
      " 'apply_prob': 0.5,\n",
      " 'batch_size': 1,\n",
      " 'clahe': True,\n",
      " 'claheratio': 0.1,\n",
      " 'crop_pad': 0,\n",
      " 'crop_sampling': 'hybrid',\n",
      " 'crop_size': [400, 400],\n",
      " 'cropratio': 0.4,\n",
      " 'dataset': 'training-datasets/iteration-0/UnaugmentedDataSet_OPEN_FIELD_TEST_TRIAL1Feb8/OPEN_FIELD_TEST_TRIAL1_Hamid95shuffle1.mat',\n",
      " 'dataset_type': 'default',\n",
      " 'decay_steps': 30000,\n",
      " 'deterministic': False,\n",
      " 'display_iters': 1000,\n",
      " 'edge': False,\n",
      " 'emboss': {'alpha': [0.0, 1.0], 'embossratio': 0.1, 'strength': [0.5, 1.5]},\n",
      " 'fg_fraction': 0.25,\n",
      " 'global_scale': 0.8,\n",
      " 'histeq': True,\n",
      " 'histeqratio': 0.1,\n",
      " 'init_weights': '/home/jaime/anaconda3/envs/DLC-tf2/lib/python3.7/site-packages/deeplabcut/pose_estimation_tensorflow/models/pretrained/resnet_v1_50.ckpt',\n",
      " 'intermediate_supervision': False,\n",
      " 'intermediate_supervision_layer': 12,\n",
      " 'location_refinement': True,\n",
      " 'locref_huber_loss': True,\n",
      " 'locref_loss_weight': 0.05,\n",
      " 'locref_stdev': 7.2801,\n",
      " 'log_dir': 'log',\n",
      " 'lr_init': 0.0005,\n",
      " 'max_input_size': 1500,\n",
      " 'max_shift': 0.4,\n",
      " 'mean_pixel': [123.68, 116.779, 103.939],\n",
      " 'metadataset': 'training-datasets/iteration-0/UnaugmentedDataSet_OPEN_FIELD_TEST_TRIAL1Feb8/Documentation_data-OPEN_FIELD_TEST_TRIAL1_95shuffle1.pickle',\n",
      " 'min_input_size': 64,\n",
      " 'mirror': False,\n",
      " 'multi_stage': False,\n",
      " 'multi_step': [[0.005, 10000],\n",
      "                [0.02, 430000],\n",
      "                [0.002, 730000],\n",
      "                [0.001, 1030000]],\n",
      " 'net_type': 'resnet_50',\n",
      " 'num_joints': 8,\n",
      " 'optimizer': 'sgd',\n",
      " 'pairwise_huber_loss': False,\n",
      " 'pairwise_predict': False,\n",
      " 'partaffinityfield_predict': False,\n",
      " 'pos_dist_thresh': 17,\n",
      " 'pre_resize': [],\n",
      " 'project_path': '/home/jaime/Github/OPEN_FIELD_DLC/OPEN_FIELD_WORKING_DIRECTORY/OPEN_FIELD_TEST_TRIAL1-Hamid-2023-02-08',\n",
      " 'regularize': False,\n",
      " 'rotation': 25,\n",
      " 'rotratio': 0.4,\n",
      " 'save_iters': 50000,\n",
      " 'scale_jitter_lo': 0.5,\n",
      " 'scale_jitter_up': 1.25,\n",
      " 'scoremap_dir': 'test',\n",
      " 'sharpen': False,\n",
      " 'sharpenratio': 0.3,\n",
      " 'shuffle': True,\n",
      " 'snapshot_prefix': '/home/jaime/Github/OPEN_FIELD_DLC/OPEN_FIELD_WORKING_DIRECTORY/OPEN_FIELD_TEST_TRIAL1-Hamid-2023-02-08/dlc-models/iteration-0/OPEN_FIELD_TEST_TRIAL1Feb8-trainset95shuffle1/train/snapshot',\n",
      " 'stride': 8.0,\n",
      " 'weigh_negatives': False,\n",
      " 'weigh_only_present_joints': False,\n",
      " 'weigh_part_predictions': False,\n",
      " 'weight_decay': 0.0001}\n"
     ]
    },
    {
     "name": "stdout",
     "output_type": "stream",
     "text": [
      "Selecting single-animal trainer\n",
      "Batch Size is 1\n"
     ]
    },
    {
     "name": "stderr",
     "output_type": "stream",
     "text": [
      "2023-02-09 11:07:23.177972: I tensorflow/stream_executor/platform/default/dso_loader.cc:44] Successfully opened dynamic library libcuda.so.1\n",
      "2023-02-09 11:07:23.232458: I tensorflow/stream_executor/cuda/cuda_gpu_executor.cc:1006] successful NUMA node read from SysFS had negative value (-1), but there must be at least one NUMA node, so returning NUMA node zero\n",
      "2023-02-09 11:07:23.232698: I tensorflow/core/common_runtime/gpu/gpu_device.cc:1618] Found device 0 with properties: \n",
      "name: GeForce RTX 2080 SUPER major: 7 minor: 5 memoryClockRate(GHz): 1.83\n",
      "pciBusID: 0000:01:00.0\n",
      "2023-02-09 11:07:23.234448: I tensorflow/stream_executor/platform/default/dso_loader.cc:44] Successfully opened dynamic library libcudart.so.10.0\n",
      "2023-02-09 11:07:23.272366: I tensorflow/stream_executor/platform/default/dso_loader.cc:44] Successfully opened dynamic library libcublas.so.10.0\n",
      "2023-02-09 11:07:23.289890: I tensorflow/stream_executor/platform/default/dso_loader.cc:44] Successfully opened dynamic library libcufft.so.10.0\n",
      "2023-02-09 11:07:23.295593: I tensorflow/stream_executor/platform/default/dso_loader.cc:44] Successfully opened dynamic library libcurand.so.10.0\n",
      "2023-02-09 11:07:23.328538: I tensorflow/stream_executor/platform/default/dso_loader.cc:44] Successfully opened dynamic library libcusolver.so.10.0\n",
      "2023-02-09 11:07:23.358386: I tensorflow/stream_executor/platform/default/dso_loader.cc:44] Successfully opened dynamic library libcusparse.so.10.0\n",
      "2023-02-09 11:07:23.425013: I tensorflow/stream_executor/platform/default/dso_loader.cc:44] Successfully opened dynamic library libcudnn.so.7\n",
      "2023-02-09 11:07:23.425559: I tensorflow/stream_executor/cuda/cuda_gpu_executor.cc:1006] successful NUMA node read from SysFS had negative value (-1), but there must be at least one NUMA node, so returning NUMA node zero\n",
      "2023-02-09 11:07:23.426959: I tensorflow/stream_executor/cuda/cuda_gpu_executor.cc:1006] successful NUMA node read from SysFS had negative value (-1), but there must be at least one NUMA node, so returning NUMA node zero\n",
      "2023-02-09 11:07:23.428676: I tensorflow/core/common_runtime/gpu/gpu_device.cc:1746] Adding visible gpu devices: 0\n",
      "2023-02-09 11:07:23.432056: I tensorflow/core/platform/cpu_feature_guard.cc:142] Your CPU supports instructions that this TensorFlow binary was not compiled to use: AVX2 FMA\n",
      "2023-02-09 11:07:23.460561: I tensorflow/core/platform/profile_utils/cpu_utils.cc:94] CPU Frequency: 3600000000 Hz\n",
      "2023-02-09 11:07:23.461607: I tensorflow/compiler/xla/service/service.cc:168] XLA service 0x563924bfe440 executing computations on platform Host. Devices:\n",
      "2023-02-09 11:07:23.461620: I tensorflow/compiler/xla/service/service.cc:175]   StreamExecutor device (0): Host, Default Version\n",
      "2023-02-09 11:07:23.537474: I tensorflow/stream_executor/cuda/cuda_gpu_executor.cc:1006] successful NUMA node read from SysFS had negative value (-1), but there must be at least one NUMA node, so returning NUMA node zero\n",
      "2023-02-09 11:07:23.537758: I tensorflow/compiler/xla/service/service.cc:168] XLA service 0x563924c21890 executing computations on platform CUDA. Devices:\n",
      "2023-02-09 11:07:23.537769: I tensorflow/compiler/xla/service/service.cc:175]   StreamExecutor device (0): GeForce RTX 2080 SUPER, Compute Capability 7.5\n",
      "2023-02-09 11:07:23.537929: I tensorflow/stream_executor/cuda/cuda_gpu_executor.cc:1006] successful NUMA node read from SysFS had negative value (-1), but there must be at least one NUMA node, so returning NUMA node zero\n",
      "2023-02-09 11:07:23.538128: I tensorflow/core/common_runtime/gpu/gpu_device.cc:1618] Found device 0 with properties: \n",
      "name: GeForce RTX 2080 SUPER major: 7 minor: 5 memoryClockRate(GHz): 1.83\n",
      "pciBusID: 0000:01:00.0\n",
      "2023-02-09 11:07:23.538177: I tensorflow/stream_executor/platform/default/dso_loader.cc:44] Successfully opened dynamic library libcudart.so.10.0\n",
      "2023-02-09 11:07:23.538198: I tensorflow/stream_executor/platform/default/dso_loader.cc:44] Successfully opened dynamic library libcublas.so.10.0\n",
      "2023-02-09 11:07:23.538216: I tensorflow/stream_executor/platform/default/dso_loader.cc:44] Successfully opened dynamic library libcufft.so.10.0\n",
      "2023-02-09 11:07:23.538233: I tensorflow/stream_executor/platform/default/dso_loader.cc:44] Successfully opened dynamic library libcurand.so.10.0\n",
      "2023-02-09 11:07:23.538251: I tensorflow/stream_executor/platform/default/dso_loader.cc:44] Successfully opened dynamic library libcusolver.so.10.0\n",
      "2023-02-09 11:07:23.538268: I tensorflow/stream_executor/platform/default/dso_loader.cc:44] Successfully opened dynamic library libcusparse.so.10.0\n",
      "2023-02-09 11:07:23.538286: I tensorflow/stream_executor/platform/default/dso_loader.cc:44] Successfully opened dynamic library libcudnn.so.7\n",
      "2023-02-09 11:07:23.538329: I tensorflow/stream_executor/cuda/cuda_gpu_executor.cc:1006] successful NUMA node read from SysFS had negative value (-1), but there must be at least one NUMA node, so returning NUMA node zero\n",
      "2023-02-09 11:07:23.538551: I tensorflow/stream_executor/cuda/cuda_gpu_executor.cc:1006] successful NUMA node read from SysFS had negative value (-1), but there must be at least one NUMA node, so returning NUMA node zero\n",
      "2023-02-09 11:07:23.538737: I tensorflow/core/common_runtime/gpu/gpu_device.cc:1746] Adding visible gpu devices: 0\n",
      "2023-02-09 11:07:23.539262: I tensorflow/stream_executor/platform/default/dso_loader.cc:44] Successfully opened dynamic library libcudart.so.10.0\n",
      "2023-02-09 11:07:23.540820: I tensorflow/core/common_runtime/gpu/gpu_device.cc:1159] Device interconnect StreamExecutor with strength 1 edge matrix:\n",
      "2023-02-09 11:07:23.540829: I tensorflow/core/common_runtime/gpu/gpu_device.cc:1165]      0 \n",
      "2023-02-09 11:07:23.540832: I tensorflow/core/common_runtime/gpu/gpu_device.cc:1178] 0:   N \n",
      "2023-02-09 11:07:23.542105: I tensorflow/stream_executor/cuda/cuda_gpu_executor.cc:1006] successful NUMA node read from SysFS had negative value (-1), but there must be at least one NUMA node, so returning NUMA node zero\n",
      "2023-02-09 11:07:23.542339: I tensorflow/stream_executor/cuda/cuda_gpu_executor.cc:1006] successful NUMA node read from SysFS had negative value (-1), but there must be at least one NUMA node, so returning NUMA node zero\n",
      "2023-02-09 11:07:23.542534: W tensorflow/core/common_runtime/gpu/gpu_bfc_allocator.cc:39] Overriding allow_growth setting because the TF_FORCE_GPU_ALLOW_GROWTH environment variable is set. Original config value was 0.\n",
      "2023-02-09 11:07:23.542553: I tensorflow/core/common_runtime/gpu/gpu_device.cc:1304] Created TensorFlow device (/job:localhost/replica:0/task:0/device:GPU:0 with 7035 MB memory) -> physical GPU (device: 0, name: GeForce RTX 2080 SUPER, pci bus id: 0000:01:00.0, compute capability: 7.5)\n"
     ]
    },
    {
     "name": "stdout",
     "output_type": "stream",
     "text": [
      "Loading ImageNet-pretrained resnet_50\n"
     ]
    },
    {
     "name": "stderr",
     "output_type": "stream",
     "text": [
      "2023-02-09 11:07:23.864609: I tensorflow/stream_executor/cuda/cuda_gpu_executor.cc:1006] successful NUMA node read from SysFS had negative value (-1), but there must be at least one NUMA node, so returning NUMA node zero\n",
      "2023-02-09 11:07:23.864893: I tensorflow/core/common_runtime/gpu/gpu_device.cc:1618] Found device 0 with properties: \n",
      "name: GeForce RTX 2080 SUPER major: 7 minor: 5 memoryClockRate(GHz): 1.83\n",
      "pciBusID: 0000:01:00.0\n",
      "2023-02-09 11:07:23.864952: I tensorflow/stream_executor/platform/default/dso_loader.cc:44] Successfully opened dynamic library libcudart.so.10.0\n",
      "2023-02-09 11:07:23.864967: I tensorflow/stream_executor/platform/default/dso_loader.cc:44] Successfully opened dynamic library libcublas.so.10.0\n",
      "2023-02-09 11:07:23.865006: I tensorflow/stream_executor/platform/default/dso_loader.cc:44] Successfully opened dynamic library libcufft.so.10.0\n",
      "2023-02-09 11:07:23.865020: I tensorflow/stream_executor/platform/default/dso_loader.cc:44] Successfully opened dynamic library libcurand.so.10.0\n",
      "2023-02-09 11:07:23.865047: I tensorflow/stream_executor/platform/default/dso_loader.cc:44] Successfully opened dynamic library libcusolver.so.10.0\n",
      "2023-02-09 11:07:23.865076: I tensorflow/stream_executor/platform/default/dso_loader.cc:44] Successfully opened dynamic library libcusparse.so.10.0\n",
      "2023-02-09 11:07:23.865103: I tensorflow/stream_executor/platform/default/dso_loader.cc:44] Successfully opened dynamic library libcudnn.so.7\n",
      "2023-02-09 11:07:23.865191: I tensorflow/stream_executor/cuda/cuda_gpu_executor.cc:1006] successful NUMA node read from SysFS had negative value (-1), but there must be at least one NUMA node, so returning NUMA node zero\n",
      "2023-02-09 11:07:23.865475: I tensorflow/stream_executor/cuda/cuda_gpu_executor.cc:1006] successful NUMA node read from SysFS had negative value (-1), but there must be at least one NUMA node, so returning NUMA node zero\n",
      "2023-02-09 11:07:23.865695: I tensorflow/core/common_runtime/gpu/gpu_device.cc:1746] Adding visible gpu devices: 0\n",
      "2023-02-09 11:07:23.865711: I tensorflow/core/common_runtime/gpu/gpu_device.cc:1159] Device interconnect StreamExecutor with strength 1 edge matrix:\n",
      "2023-02-09 11:07:23.865734: I tensorflow/core/common_runtime/gpu/gpu_device.cc:1165]      0 \n",
      "2023-02-09 11:07:23.865737: I tensorflow/core/common_runtime/gpu/gpu_device.cc:1178] 0:   N \n",
      "2023-02-09 11:07:23.865795: I tensorflow/stream_executor/cuda/cuda_gpu_executor.cc:1006] successful NUMA node read from SysFS had negative value (-1), but there must be at least one NUMA node, so returning NUMA node zero\n",
      "2023-02-09 11:07:23.866027: I tensorflow/stream_executor/cuda/cuda_gpu_executor.cc:1006] successful NUMA node read from SysFS had negative value (-1), but there must be at least one NUMA node, so returning NUMA node zero\n",
      "2023-02-09 11:07:23.866253: I tensorflow/core/common_runtime/gpu/gpu_device.cc:1304] Created TensorFlow device (/job:localhost/replica:0/task:0/device:GPU:0 with 7035 MB memory) -> physical GPU (device: 0, name: GeForce RTX 2080 SUPER, pci bus id: 0000:01:00.0, compute capability: 7.5)\n"
     ]
    },
    {
     "name": "stdout",
     "output_type": "stream",
     "text": [
      "Training parameter:\n",
      "{'stride': 8.0, 'weigh_part_predictions': False, 'weigh_negatives': False, 'fg_fraction': 0.25, 'mean_pixel': [123.68, 116.779, 103.939], 'shuffle': True, 'snapshot_prefix': '/home/jaime/Github/OPEN_FIELD_DLC/OPEN_FIELD_WORKING_DIRECTORY/OPEN_FIELD_TEST_TRIAL1-Hamid-2023-02-08/dlc-models/iteration-0/OPEN_FIELD_TEST_TRIAL1Feb8-trainset95shuffle1/train/snapshot', 'log_dir': 'log', 'global_scale': 0.8, 'location_refinement': True, 'locref_stdev': 7.2801, 'locref_loss_weight': 0.05, 'locref_huber_loss': True, 'optimizer': 'sgd', 'intermediate_supervision': False, 'intermediate_supervision_layer': 12, 'regularize': False, 'weight_decay': 0.0001, 'crop_pad': 0, 'scoremap_dir': 'test', 'batch_size': 1, 'dataset_type': 'default', 'deterministic': False, 'mirror': False, 'pairwise_huber_loss': False, 'weigh_only_present_joints': False, 'partaffinityfield_predict': False, 'pairwise_predict': False, 'all_joints': [[0], [1], [2], [3], [4], [5], [6], [7]], 'all_joints_names': ['LEFTEAR', 'NOSE', 'RIGHTEAR', 'NECK', 'BACK', 'TAILBASE', 'TAILMID', 'TAILEND'], 'alpha_r': 0.02, 'apply_prob': 0.5, 'clahe': True, 'claheratio': 0.1, 'crop_sampling': 'hybrid', 'crop_size': [400, 400], 'cropratio': 0.4, 'dataset': 'training-datasets/iteration-0/UnaugmentedDataSet_OPEN_FIELD_TEST_TRIAL1Feb8/OPEN_FIELD_TEST_TRIAL1_Hamid95shuffle1.mat', 'decay_steps': 30000, 'display_iters': 1000, 'edge': False, 'emboss': {'alpha': [0.0, 1.0], 'embossratio': 0.1, 'strength': [0.5, 1.5]}, 'histeq': True, 'histeqratio': 0.1, 'init_weights': '/home/jaime/anaconda3/envs/DLC-tf2/lib/python3.7/site-packages/deeplabcut/pose_estimation_tensorflow/models/pretrained/resnet_v1_50.ckpt', 'lr_init': 0.0005, 'max_input_size': 1500, 'max_shift': 0.4, 'metadataset': 'training-datasets/iteration-0/UnaugmentedDataSet_OPEN_FIELD_TEST_TRIAL1Feb8/Documentation_data-OPEN_FIELD_TEST_TRIAL1_95shuffle1.pickle', 'min_input_size': 64, 'multi_stage': False, 'multi_step': [[0.005, 10000], [0.02, 430000], [0.002, 730000], [0.001, 1030000]], 'net_type': 'resnet_50', 'num_joints': 8, 'pos_dist_thresh': 17, 'pre_resize': [], 'project_path': '/home/jaime/Github/OPEN_FIELD_DLC/OPEN_FIELD_WORKING_DIRECTORY/OPEN_FIELD_TEST_TRIAL1-Hamid-2023-02-08', 'rotation': 25, 'rotratio': 0.4, 'save_iters': 50000, 'scale_jitter_lo': 0.5, 'scale_jitter_up': 1.25, 'sharpen': False, 'sharpenratio': 0.3, 'covering': True, 'elastic_transform': True, 'motion_blur': True, 'motion_blur_params': {'k': 7, 'angle': (-90, 90)}}\n",
      "Starting training....\n"
     ]
    },
    {
     "name": "stderr",
     "output_type": "stream",
     "text": [
      "2023-02-09 11:07:29.223349: I tensorflow/stream_executor/platform/default/dso_loader.cc:44] Successfully opened dynamic library libcudnn.so.7\n",
      "2023-02-09 11:07:34.016137: W tensorflow/core/common_runtime/bfc_allocator.cc:305] Garbage collection: deallocate free memory regions (i.e., allocations) so that we can re-allocate a larger region to avoid OOM due to memory fragmentation. If you see this message frequently, you are running near the threshold of the available device memory and re-allocation may incur great performance overhead. You may try smaller batch sizes to observe the performance impact. Set TF_ENABLE_GPU_GARBAGE_COLLECTION=false if you'd like to disable this feature.\n",
      "iteration: 1000 loss: 0.0204 lr: 0.005\n",
      "iteration: 2000 loss: 0.0125 lr: 0.005\n",
      "iteration: 3000 loss: 0.0104 lr: 0.005\n",
      "iteration: 4000 loss: 0.0097 lr: 0.005\n",
      "iteration: 5000 loss: 0.0092 lr: 0.005\n",
      "iteration: 6000 loss: 0.0085 lr: 0.005\n",
      "iteration: 7000 loss: 0.0081 lr: 0.005\n",
      "iteration: 8000 loss: 0.0078 lr: 0.005\n",
      "iteration: 9000 loss: 0.0075 lr: 0.005\n",
      "iteration: 10000 loss: 0.0074 lr: 0.005\n",
      "iteration: 11000 loss: 0.0086 lr: 0.02\n",
      "iteration: 12000 loss: 0.0077 lr: 0.02\n",
      "iteration: 13000 loss: 0.0070 lr: 0.02\n",
      "iteration: 14000 loss: 0.0068 lr: 0.02\n",
      "iteration: 15000 loss: 0.0063 lr: 0.02\n",
      "iteration: 16000 loss: 0.0063 lr: 0.02\n",
      "iteration: 17000 loss: 0.0059 lr: 0.02\n",
      "iteration: 18000 loss: 0.0057 lr: 0.02\n",
      "iteration: 19000 loss: 0.0056 lr: 0.02\n",
      "iteration: 20000 loss: 0.0053 lr: 0.02\n",
      "iteration: 21000 loss: 0.0052 lr: 0.02\n",
      "iteration: 22000 loss: 0.0050 lr: 0.02\n",
      "iteration: 23000 loss: 0.0048 lr: 0.02\n",
      "iteration: 24000 loss: 0.0048 lr: 0.02\n",
      "iteration: 25000 loss: 0.0045 lr: 0.02\n",
      "iteration: 26000 loss: 0.0045 lr: 0.02\n",
      "iteration: 27000 loss: 0.0044 lr: 0.02\n",
      "iteration: 28000 loss: 0.0042 lr: 0.02\n",
      "iteration: 29000 loss: 0.0044 lr: 0.02\n",
      "iteration: 30000 loss: 0.0041 lr: 0.02\n",
      "iteration: 31000 loss: 0.0041 lr: 0.02\n",
      "iteration: 32000 loss: 0.0041 lr: 0.02\n",
      "iteration: 33000 loss: 0.0040 lr: 0.02\n",
      "iteration: 34000 loss: 0.0039 lr: 0.02\n",
      "iteration: 35000 loss: 0.0039 lr: 0.02\n",
      "iteration: 36000 loss: 0.0037 lr: 0.02\n",
      "iteration: 37000 loss: 0.0037 lr: 0.02\n",
      "iteration: 38000 loss: 0.0036 lr: 0.02\n",
      "iteration: 39000 loss: 0.0035 lr: 0.02\n",
      "iteration: 40000 loss: 0.0035 lr: 0.02\n",
      "iteration: 41000 loss: 0.0035 lr: 0.02\n",
      "iteration: 42000 loss: 0.0034 lr: 0.02\n",
      "iteration: 43000 loss: 0.0033 lr: 0.02\n",
      "iteration: 44000 loss: 0.0032 lr: 0.02\n",
      "iteration: 45000 loss: 0.0033 lr: 0.02\n",
      "iteration: 46000 loss: 0.0032 lr: 0.02\n",
      "iteration: 47000 loss: 0.0031 lr: 0.02\n",
      "iteration: 48000 loss: 0.0032 lr: 0.02\n",
      "iteration: 49000 loss: 0.0032 lr: 0.02\n",
      "iteration: 50000 loss: 0.0030 lr: 0.02\n",
      "iteration: 51000 loss: 0.0030 lr: 0.02\n",
      "iteration: 52000 loss: 0.0030 lr: 0.02\n",
      "iteration: 53000 loss: 0.0029 lr: 0.02\n",
      "iteration: 54000 loss: 0.0028 lr: 0.02\n",
      "iteration: 55000 loss: 0.0030 lr: 0.02\n",
      "iteration: 56000 loss: 0.0029 lr: 0.02\n",
      "iteration: 57000 loss: 0.0029 lr: 0.02\n",
      "iteration: 58000 loss: 0.0028 lr: 0.02\n",
      "iteration: 59000 loss: 0.0028 lr: 0.02\n",
      "iteration: 60000 loss: 0.0028 lr: 0.02\n",
      "iteration: 61000 loss: 0.0027 lr: 0.02\n",
      "iteration: 62000 loss: 0.0026 lr: 0.02\n",
      "iteration: 63000 loss: 0.0026 lr: 0.02\n",
      "iteration: 64000 loss: 0.0027 lr: 0.02\n",
      "iteration: 65000 loss: 0.0026 lr: 0.02\n",
      "iteration: 66000 loss: 0.0025 lr: 0.02\n",
      "iteration: 67000 loss: 0.0027 lr: 0.02\n",
      "iteration: 68000 loss: 0.0025 lr: 0.02\n",
      "iteration: 69000 loss: 0.0026 lr: 0.02\n",
      "iteration: 70000 loss: 0.0025 lr: 0.02\n",
      "iteration: 71000 loss: 0.0025 lr: 0.02\n",
      "iteration: 72000 loss: 0.0026 lr: 0.02\n",
      "iteration: 73000 loss: 0.0024 lr: 0.02\n",
      "iteration: 74000 loss: 0.0025 lr: 0.02\n",
      "iteration: 75000 loss: 0.0025 lr: 0.02\n",
      "iteration: 76000 loss: 0.0024 lr: 0.02\n",
      "iteration: 77000 loss: 0.0025 lr: 0.02\n",
      "iteration: 78000 loss: 0.0024 lr: 0.02\n",
      "iteration: 79000 loss: 0.0025 lr: 0.02\n",
      "iteration: 80000 loss: 0.0024 lr: 0.02\n",
      "iteration: 81000 loss: 0.0023 lr: 0.02\n",
      "iteration: 82000 loss: 0.0024 lr: 0.02\n",
      "iteration: 83000 loss: 0.0023 lr: 0.02\n",
      "iteration: 84000 loss: 0.0023 lr: 0.02\n",
      "iteration: 85000 loss: 0.0023 lr: 0.02\n",
      "iteration: 86000 loss: 0.0023 lr: 0.02\n",
      "iteration: 87000 loss: 0.0023 lr: 0.02\n",
      "iteration: 88000 loss: 0.0023 lr: 0.02\n",
      "iteration: 89000 loss: 0.0022 lr: 0.02\n",
      "iteration: 90000 loss: 0.0022 lr: 0.02\n",
      "iteration: 91000 loss: 0.0022 lr: 0.02\n",
      "iteration: 92000 loss: 0.0021 lr: 0.02\n",
      "iteration: 93000 loss: 0.0023 lr: 0.02\n",
      "iteration: 94000 loss: 0.0022 lr: 0.02\n",
      "iteration: 95000 loss: 0.0021 lr: 0.02\n",
      "iteration: 96000 loss: 0.0022 lr: 0.02\n",
      "iteration: 97000 loss: 0.0022 lr: 0.02\n",
      "iteration: 98000 loss: 0.0021 lr: 0.02\n",
      "iteration: 99000 loss: 0.0022 lr: 0.02\n",
      "iteration: 100000 loss: 0.0022 lr: 0.02\n",
      "iteration: 101000 loss: 0.0021 lr: 0.02\n",
      "iteration: 102000 loss: 0.0021 lr: 0.02\n",
      "iteration: 103000 loss: 0.0021 lr: 0.02\n",
      "iteration: 104000 loss: 0.0022 lr: 0.02\n",
      "iteration: 105000 loss: 0.0021 lr: 0.02\n",
      "iteration: 106000 loss: 0.0021 lr: 0.02\n",
      "iteration: 107000 loss: 0.0021 lr: 0.02\n",
      "iteration: 108000 loss: 0.0019 lr: 0.02\n",
      "iteration: 109000 loss: 0.0021 lr: 0.02\n",
      "iteration: 110000 loss: 0.0020 lr: 0.02\n",
      "iteration: 111000 loss: 0.0020 lr: 0.02\n",
      "iteration: 112000 loss: 0.0020 lr: 0.02\n",
      "iteration: 113000 loss: 0.0021 lr: 0.02\n",
      "iteration: 114000 loss: 0.0021 lr: 0.02\n",
      "iteration: 115000 loss: 0.0020 lr: 0.02\n",
      "iteration: 116000 loss: 0.0021 lr: 0.02\n",
      "iteration: 117000 loss: 0.0021 lr: 0.02\n",
      "iteration: 118000 loss: 0.0020 lr: 0.02\n",
      "iteration: 119000 loss: 0.0020 lr: 0.02\n",
      "iteration: 120000 loss: 0.0020 lr: 0.02\n",
      "iteration: 121000 loss: 0.0019 lr: 0.02\n",
      "iteration: 122000 loss: 0.0019 lr: 0.02\n",
      "iteration: 123000 loss: 0.0019 lr: 0.02\n",
      "iteration: 124000 loss: 0.0020 lr: 0.02\n",
      "iteration: 125000 loss: 0.0019 lr: 0.02\n",
      "iteration: 126000 loss: 0.0019 lr: 0.02\n",
      "iteration: 127000 loss: 0.0019 lr: 0.02\n",
      "iteration: 128000 loss: 0.0019 lr: 0.02\n",
      "iteration: 129000 loss: 0.0019 lr: 0.02\n",
      "iteration: 130000 loss: 0.0019 lr: 0.02\n",
      "iteration: 131000 loss: 0.0019 lr: 0.02\n",
      "iteration: 132000 loss: 0.0019 lr: 0.02\n",
      "iteration: 133000 loss: 0.0019 lr: 0.02\n",
      "iteration: 134000 loss: 0.0019 lr: 0.02\n",
      "iteration: 135000 loss: 0.0018 lr: 0.02\n",
      "iteration: 136000 loss: 0.0019 lr: 0.02\n",
      "iteration: 137000 loss: 0.0018 lr: 0.02\n",
      "iteration: 138000 loss: 0.0018 lr: 0.02\n",
      "iteration: 139000 loss: 0.0019 lr: 0.02\n",
      "iteration: 140000 loss: 0.0019 lr: 0.02\n",
      "iteration: 141000 loss: 0.0018 lr: 0.02\n",
      "iteration: 142000 loss: 0.0018 lr: 0.02\n",
      "iteration: 143000 loss: 0.0018 lr: 0.02\n",
      "iteration: 144000 loss: 0.0018 lr: 0.02\n",
      "iteration: 145000 loss: 0.0018 lr: 0.02\n",
      "iteration: 146000 loss: 0.0018 lr: 0.02\n",
      "iteration: 147000 loss: 0.0018 lr: 0.02\n",
      "iteration: 148000 loss: 0.0017 lr: 0.02\n",
      "iteration: 149000 loss: 0.0018 lr: 0.02\n",
      "iteration: 150000 loss: 0.0018 lr: 0.02\n",
      "iteration: 151000 loss: 0.0018 lr: 0.02\n",
      "iteration: 152000 loss: 0.0017 lr: 0.02\n",
      "iteration: 153000 loss: 0.0018 lr: 0.02\n",
      "iteration: 154000 loss: 0.0018 lr: 0.02\n",
      "iteration: 155000 loss: 0.0018 lr: 0.02\n",
      "iteration: 156000 loss: 0.0018 lr: 0.02\n",
      "iteration: 157000 loss: 0.0018 lr: 0.02\n",
      "iteration: 158000 loss: 0.0018 lr: 0.02\n",
      "iteration: 159000 loss: 0.0017 lr: 0.02\n",
      "iteration: 160000 loss: 0.0018 lr: 0.02\n"
     ]
    },
    {
     "ename": "KeyboardInterrupt",
     "evalue": "",
     "output_type": "error",
     "traceback": [
      "\u001b[0;31m---------------------------------------------------------------------------\u001b[0m",
      "\u001b[0;31mKeyboardInterrupt\u001b[0m                         Traceback (most recent call last)",
      "\u001b[0;32m/tmp/ipykernel_4740/16729611.py\u001b[0m in \u001b[0;36m<module>\u001b[0;34m\u001b[0m\n\u001b[0;32m----> 1\u001b[0;31m \u001b[0mdeeplabcut\u001b[0m\u001b[0;34m.\u001b[0m\u001b[0mtrain_network\u001b[0m\u001b[0;34m(\u001b[0m\u001b[0mconfig_path\u001b[0m\u001b[0;34m)\u001b[0m\u001b[0;34m\u001b[0m\u001b[0;34m\u001b[0m\u001b[0m\n\u001b[0m",
      "\u001b[0;32m~/anaconda3/envs/DLC-tf2/lib/python3.7/site-packages/deeplabcut/pose_estimation_tensorflow/training.py\u001b[0m in \u001b[0;36mtrain_network\u001b[0;34m(config, shuffle, trainingsetindex, max_snapshots_to_keep, displayiters, saveiters, maxiters, allow_growth, gputouse, autotune, keepdeconvweights, modelprefix)\u001b[0m\n\u001b[1;32m    187\u001b[0m \u001b[0;34m\u001b[0m\u001b[0m\n\u001b[1;32m    188\u001b[0m     \u001b[0;32mexcept\u001b[0m \u001b[0mBaseException\u001b[0m \u001b[0;32mas\u001b[0m \u001b[0me\u001b[0m\u001b[0;34m:\u001b[0m\u001b[0;34m\u001b[0m\u001b[0;34m\u001b[0m\u001b[0m\n\u001b[0;32m--> 189\u001b[0;31m         \u001b[0;32mraise\u001b[0m \u001b[0me\u001b[0m\u001b[0;34m\u001b[0m\u001b[0;34m\u001b[0m\u001b[0m\n\u001b[0m\u001b[1;32m    190\u001b[0m     \u001b[0;32mfinally\u001b[0m\u001b[0;34m:\u001b[0m\u001b[0;34m\u001b[0m\u001b[0;34m\u001b[0m\u001b[0m\n\u001b[1;32m    191\u001b[0m         \u001b[0mos\u001b[0m\u001b[0;34m.\u001b[0m\u001b[0mchdir\u001b[0m\u001b[0;34m(\u001b[0m\u001b[0mstr\u001b[0m\u001b[0;34m(\u001b[0m\u001b[0mstart_path\u001b[0m\u001b[0;34m)\u001b[0m\u001b[0;34m)\u001b[0m\u001b[0;34m\u001b[0m\u001b[0;34m\u001b[0m\u001b[0m\n",
      "\u001b[0;32m~/anaconda3/envs/DLC-tf2/lib/python3.7/site-packages/deeplabcut/pose_estimation_tensorflow/training.py\u001b[0m in \u001b[0;36mtrain_network\u001b[0;34m(config, shuffle, trainingsetindex, max_snapshots_to_keep, displayiters, saveiters, maxiters, allow_growth, gputouse, autotune, keepdeconvweights, modelprefix)\u001b[0m\n\u001b[1;32m    183\u001b[0m                 \u001b[0mmax_to_keep\u001b[0m\u001b[0;34m=\u001b[0m\u001b[0mmax_snapshots_to_keep\u001b[0m\u001b[0;34m,\u001b[0m\u001b[0;34m\u001b[0m\u001b[0;34m\u001b[0m\u001b[0m\n\u001b[1;32m    184\u001b[0m                 \u001b[0mkeepdeconvweights\u001b[0m\u001b[0;34m=\u001b[0m\u001b[0mkeepdeconvweights\u001b[0m\u001b[0;34m,\u001b[0m\u001b[0;34m\u001b[0m\u001b[0;34m\u001b[0m\u001b[0m\n\u001b[0;32m--> 185\u001b[0;31m                 \u001b[0mallow_growth\u001b[0m\u001b[0;34m=\u001b[0m\u001b[0mallow_growth\u001b[0m\u001b[0;34m,\u001b[0m\u001b[0;34m\u001b[0m\u001b[0;34m\u001b[0m\u001b[0m\n\u001b[0m\u001b[1;32m    186\u001b[0m             )  # pass on path and file name for pose_cfg.yaml!\n\u001b[1;32m    187\u001b[0m \u001b[0;34m\u001b[0m\u001b[0m\n",
      "\u001b[0;32m~/anaconda3/envs/DLC-tf2/lib/python3.7/site-packages/deeplabcut/pose_estimation_tensorflow/core/train.py\u001b[0m in \u001b[0;36mtrain\u001b[0;34m(config_yaml, displayiters, saveiters, maxiters, max_to_keep, keepdeconvweights, allow_growth)\u001b[0m\n\u001b[1;32m    272\u001b[0m \u001b[0;34m\u001b[0m\u001b[0m\n\u001b[1;32m    273\u001b[0m         [_, loss_val, summary] = sess.run(\n\u001b[0;32m--> 274\u001b[0;31m             \u001b[0;34m[\u001b[0m\u001b[0mtrain_op\u001b[0m\u001b[0;34m,\u001b[0m \u001b[0mtotal_loss\u001b[0m\u001b[0;34m,\u001b[0m \u001b[0mmerged_summaries\u001b[0m\u001b[0;34m]\u001b[0m\u001b[0;34m,\u001b[0m \u001b[0mfeed_dict\u001b[0m\u001b[0;34m=\u001b[0m\u001b[0mdict\u001b[0m\u001b[0;34m\u001b[0m\u001b[0;34m\u001b[0m\u001b[0m\n\u001b[0m\u001b[1;32m    275\u001b[0m         )\n\u001b[1;32m    276\u001b[0m         \u001b[0mcum_loss\u001b[0m \u001b[0;34m+=\u001b[0m \u001b[0mloss_val\u001b[0m\u001b[0;34m\u001b[0m\u001b[0;34m\u001b[0m\u001b[0m\n",
      "\u001b[0;32m~/anaconda3/envs/DLC-tf2/lib/python3.7/site-packages/tensorflow_core/python/client/session.py\u001b[0m in \u001b[0;36mrun\u001b[0;34m(self, fetches, feed_dict, options, run_metadata)\u001b[0m\n\u001b[1;32m    954\u001b[0m     \u001b[0;32mtry\u001b[0m\u001b[0;34m:\u001b[0m\u001b[0;34m\u001b[0m\u001b[0;34m\u001b[0m\u001b[0m\n\u001b[1;32m    955\u001b[0m       result = self._run(None, fetches, feed_dict, options_ptr,\n\u001b[0;32m--> 956\u001b[0;31m                          run_metadata_ptr)\n\u001b[0m\u001b[1;32m    957\u001b[0m       \u001b[0;32mif\u001b[0m \u001b[0mrun_metadata\u001b[0m\u001b[0;34m:\u001b[0m\u001b[0;34m\u001b[0m\u001b[0;34m\u001b[0m\u001b[0m\n\u001b[1;32m    958\u001b[0m         \u001b[0mproto_data\u001b[0m \u001b[0;34m=\u001b[0m \u001b[0mtf_session\u001b[0m\u001b[0;34m.\u001b[0m\u001b[0mTF_GetBuffer\u001b[0m\u001b[0;34m(\u001b[0m\u001b[0mrun_metadata_ptr\u001b[0m\u001b[0;34m)\u001b[0m\u001b[0;34m\u001b[0m\u001b[0;34m\u001b[0m\u001b[0m\n",
      "\u001b[0;32m~/anaconda3/envs/DLC-tf2/lib/python3.7/site-packages/tensorflow_core/python/client/session.py\u001b[0m in \u001b[0;36m_run\u001b[0;34m(self, handle, fetches, feed_dict, options, run_metadata)\u001b[0m\n\u001b[1;32m   1178\u001b[0m     \u001b[0;32mif\u001b[0m \u001b[0mfinal_fetches\u001b[0m \u001b[0;32mor\u001b[0m \u001b[0mfinal_targets\u001b[0m \u001b[0;32mor\u001b[0m \u001b[0;34m(\u001b[0m\u001b[0mhandle\u001b[0m \u001b[0;32mand\u001b[0m \u001b[0mfeed_dict_tensor\u001b[0m\u001b[0;34m)\u001b[0m\u001b[0;34m:\u001b[0m\u001b[0;34m\u001b[0m\u001b[0;34m\u001b[0m\u001b[0m\n\u001b[1;32m   1179\u001b[0m       results = self._do_run(handle, final_targets, final_fetches,\n\u001b[0;32m-> 1180\u001b[0;31m                              feed_dict_tensor, options, run_metadata)\n\u001b[0m\u001b[1;32m   1181\u001b[0m     \u001b[0;32melse\u001b[0m\u001b[0;34m:\u001b[0m\u001b[0;34m\u001b[0m\u001b[0;34m\u001b[0m\u001b[0m\n\u001b[1;32m   1182\u001b[0m       \u001b[0mresults\u001b[0m \u001b[0;34m=\u001b[0m \u001b[0;34m[\u001b[0m\u001b[0;34m]\u001b[0m\u001b[0;34m\u001b[0m\u001b[0;34m\u001b[0m\u001b[0m\n",
      "\u001b[0;32m~/anaconda3/envs/DLC-tf2/lib/python3.7/site-packages/tensorflow_core/python/client/session.py\u001b[0m in \u001b[0;36m_do_run\u001b[0;34m(self, handle, target_list, fetch_list, feed_dict, options, run_metadata)\u001b[0m\n\u001b[1;32m   1357\u001b[0m     \u001b[0;32mif\u001b[0m \u001b[0mhandle\u001b[0m \u001b[0;32mis\u001b[0m \u001b[0;32mNone\u001b[0m\u001b[0;34m:\u001b[0m\u001b[0;34m\u001b[0m\u001b[0;34m\u001b[0m\u001b[0m\n\u001b[1;32m   1358\u001b[0m       return self._do_call(_run_fn, feeds, fetches, targets, options,\n\u001b[0;32m-> 1359\u001b[0;31m                            run_metadata)\n\u001b[0m\u001b[1;32m   1360\u001b[0m     \u001b[0;32melse\u001b[0m\u001b[0;34m:\u001b[0m\u001b[0;34m\u001b[0m\u001b[0;34m\u001b[0m\u001b[0m\n\u001b[1;32m   1361\u001b[0m       \u001b[0;32mreturn\u001b[0m \u001b[0mself\u001b[0m\u001b[0;34m.\u001b[0m\u001b[0m_do_call\u001b[0m\u001b[0;34m(\u001b[0m\u001b[0m_prun_fn\u001b[0m\u001b[0;34m,\u001b[0m \u001b[0mhandle\u001b[0m\u001b[0;34m,\u001b[0m \u001b[0mfeeds\u001b[0m\u001b[0;34m,\u001b[0m \u001b[0mfetches\u001b[0m\u001b[0;34m)\u001b[0m\u001b[0;34m\u001b[0m\u001b[0;34m\u001b[0m\u001b[0m\n",
      "\u001b[0;32m~/anaconda3/envs/DLC-tf2/lib/python3.7/site-packages/tensorflow_core/python/client/session.py\u001b[0m in \u001b[0;36m_do_call\u001b[0;34m(self, fn, *args)\u001b[0m\n\u001b[1;32m   1363\u001b[0m   \u001b[0;32mdef\u001b[0m \u001b[0m_do_call\u001b[0m\u001b[0;34m(\u001b[0m\u001b[0mself\u001b[0m\u001b[0;34m,\u001b[0m \u001b[0mfn\u001b[0m\u001b[0;34m,\u001b[0m \u001b[0;34m*\u001b[0m\u001b[0margs\u001b[0m\u001b[0;34m)\u001b[0m\u001b[0;34m:\u001b[0m\u001b[0;34m\u001b[0m\u001b[0;34m\u001b[0m\u001b[0m\n\u001b[1;32m   1364\u001b[0m     \u001b[0;32mtry\u001b[0m\u001b[0;34m:\u001b[0m\u001b[0;34m\u001b[0m\u001b[0;34m\u001b[0m\u001b[0m\n\u001b[0;32m-> 1365\u001b[0;31m       \u001b[0;32mreturn\u001b[0m \u001b[0mfn\u001b[0m\u001b[0;34m(\u001b[0m\u001b[0;34m*\u001b[0m\u001b[0margs\u001b[0m\u001b[0;34m)\u001b[0m\u001b[0;34m\u001b[0m\u001b[0;34m\u001b[0m\u001b[0m\n\u001b[0m\u001b[1;32m   1366\u001b[0m     \u001b[0;32mexcept\u001b[0m \u001b[0merrors\u001b[0m\u001b[0;34m.\u001b[0m\u001b[0mOpError\u001b[0m \u001b[0;32mas\u001b[0m \u001b[0me\u001b[0m\u001b[0;34m:\u001b[0m\u001b[0;34m\u001b[0m\u001b[0;34m\u001b[0m\u001b[0m\n\u001b[1;32m   1367\u001b[0m       \u001b[0mmessage\u001b[0m \u001b[0;34m=\u001b[0m \u001b[0mcompat\u001b[0m\u001b[0;34m.\u001b[0m\u001b[0mas_text\u001b[0m\u001b[0;34m(\u001b[0m\u001b[0me\u001b[0m\u001b[0;34m.\u001b[0m\u001b[0mmessage\u001b[0m\u001b[0;34m)\u001b[0m\u001b[0;34m\u001b[0m\u001b[0;34m\u001b[0m\u001b[0m\n",
      "\u001b[0;32m~/anaconda3/envs/DLC-tf2/lib/python3.7/site-packages/tensorflow_core/python/client/session.py\u001b[0m in \u001b[0;36m_run_fn\u001b[0;34m(feed_dict, fetch_list, target_list, options, run_metadata)\u001b[0m\n\u001b[1;32m   1348\u001b[0m       \u001b[0mself\u001b[0m\u001b[0;34m.\u001b[0m\u001b[0m_extend_graph\u001b[0m\u001b[0;34m(\u001b[0m\u001b[0;34m)\u001b[0m\u001b[0;34m\u001b[0m\u001b[0;34m\u001b[0m\u001b[0m\n\u001b[1;32m   1349\u001b[0m       return self._call_tf_sessionrun(options, feed_dict, fetch_list,\n\u001b[0;32m-> 1350\u001b[0;31m                                       target_list, run_metadata)\n\u001b[0m\u001b[1;32m   1351\u001b[0m \u001b[0;34m\u001b[0m\u001b[0m\n\u001b[1;32m   1352\u001b[0m     \u001b[0;32mdef\u001b[0m \u001b[0m_prun_fn\u001b[0m\u001b[0;34m(\u001b[0m\u001b[0mhandle\u001b[0m\u001b[0;34m,\u001b[0m \u001b[0mfeed_dict\u001b[0m\u001b[0;34m,\u001b[0m \u001b[0mfetch_list\u001b[0m\u001b[0;34m)\u001b[0m\u001b[0;34m:\u001b[0m\u001b[0;34m\u001b[0m\u001b[0;34m\u001b[0m\u001b[0m\n",
      "\u001b[0;32m~/anaconda3/envs/DLC-tf2/lib/python3.7/site-packages/tensorflow_core/python/client/session.py\u001b[0m in \u001b[0;36m_call_tf_sessionrun\u001b[0;34m(self, options, feed_dict, fetch_list, target_list, run_metadata)\u001b[0m\n\u001b[1;32m   1441\u001b[0m     return tf_session.TF_SessionRun_wrapper(self._session, options, feed_dict,\n\u001b[1;32m   1442\u001b[0m                                             \u001b[0mfetch_list\u001b[0m\u001b[0;34m,\u001b[0m \u001b[0mtarget_list\u001b[0m\u001b[0;34m,\u001b[0m\u001b[0;34m\u001b[0m\u001b[0;34m\u001b[0m\u001b[0m\n\u001b[0;32m-> 1443\u001b[0;31m                                             run_metadata)\n\u001b[0m\u001b[1;32m   1444\u001b[0m \u001b[0;34m\u001b[0m\u001b[0m\n\u001b[1;32m   1445\u001b[0m   \u001b[0;32mdef\u001b[0m \u001b[0m_call_tf_sessionprun\u001b[0m\u001b[0;34m(\u001b[0m\u001b[0mself\u001b[0m\u001b[0;34m,\u001b[0m \u001b[0mhandle\u001b[0m\u001b[0;34m,\u001b[0m \u001b[0mfeed_dict\u001b[0m\u001b[0;34m,\u001b[0m \u001b[0mfetch_list\u001b[0m\u001b[0;34m)\u001b[0m\u001b[0;34m:\u001b[0m\u001b[0;34m\u001b[0m\u001b[0;34m\u001b[0m\u001b[0m\n",
      "\u001b[0;31mKeyboardInterrupt\u001b[0m: "
     ]
    }
   ],
   "source": [
    "deeplabcut.train_network(config_path)"
   ]
  },
  {
   "cell_type": "code",
   "execution_count": 4,
   "id": "47cc289e-2b99-47ca-9e59-a122e9c53e3f",
   "metadata": {},
   "outputs": [
    {
     "name": "stdout",
     "output_type": "stream",
     "text": [
      "Running  DLC_resnet50_OPEN_FIELD_TEST_TRIAL1Feb8shuffle1_150000  with # of training iterations: 150000\n"
     ]
    },
    {
     "name": "stderr",
     "output_type": "stream",
     "text": [
      "C:\\ProgramData\\Anaconda3\\envs\\deeplabcutkinematics\\lib\\site-packages\\tensorflow\\python\\keras\\engine\\base_layer_v1.py:1694: UserWarning: `layer.apply` is deprecated and will be removed in a future version. Please use `layer.__call__` method instead.\n",
      "  warnings.warn('`layer.apply` is deprecated and '\n"
     ]
    },
    {
     "name": "stdout",
     "output_type": "stream",
     "text": [
      "Running evaluation ...\n"
     ]
    },
    {
     "name": "stderr",
     "output_type": "stream",
     "text": [
      "150it [02:36,  1.04s/it]\n"
     ]
    },
    {
     "name": "stdout",
     "output_type": "stream",
     "text": [
      "Analysis is done and the results are stored (see evaluation-results) for snapshot:  snapshot-150000\n",
      "Results for 150000  training iterations: 95 1 train error: 2.47 pixels. Test error: 2.66  pixels.\n",
      "With pcutoff of 0.6  train error: 2.32 pixels. Test error: 2.61 pixels\n",
      "Thereby, the errors are given by the average distances between the labels by DLC and the scorer.\n",
      "Plotting...\n"
     ]
    },
    {
     "name": "stderr",
     "output_type": "stream",
     "text": [
      "100%|██████████████████████████████████████████████████████████████████████████████| 150/150 [03:26<00:00,  1.38s/it]"
     ]
    },
    {
     "name": "stdout",
     "output_type": "stream",
     "text": [
      "The network is evaluated and the results are stored in the subdirectory 'evaluation_results'.\n",
      "Please check the results, then choose the best model (snapshot) for prediction. You can update the config.yaml file with the appropriate index for the 'snapshotindex'.\n",
      "Use the function 'analyze_video' to make predictions on new videos.\n",
      "Otherwise, consider adding more labeled-data and retraining the network (see DeepLabCut workflow Fig 2, Nath 2019)\n"
     ]
    },
    {
     "name": "stderr",
     "output_type": "stream",
     "text": [
      "\n"
     ]
    },
    {
     "data": {
      "image/png": "[encoded data removed]",
      "text/plain": [
       "<Figure size 1500x1350 with 1 Axes>"
      ]
     },
     "metadata": {},
     "output_type": "display_data"
    }
   ],
   "source": [
    "deeplabcut.evaluate_network(config_path,Shuffles=[1], plotting=True)"
   ]
  },
  {
   "cell_type": "code",
   "execution_count": 7,
   "id": "85dda7f5",
   "metadata": {},
   "outputs": [
    {
     "name": "stderr",
     "output_type": "stream",
     "text": [
      "C:\\ProgramData\\Anaconda3\\envs\\deeplabcutkinematics\\lib\\site-packages\\tensorflow\\python\\keras\\engine\\base_layer_v1.py:1694: UserWarning: `layer.apply` is deprecated and will be removed in a future version. Please use `layer.__call__` method instead.\n",
      "  warnings.warn('`layer.apply` is deprecated and '\n"
     ]
    },
    {
     "name": "stdout",
     "output_type": "stream",
     "text": [
      "Analyzing data...\n"
     ]
    },
    {
     "name": "stderr",
     "output_type": "stream",
     "text": [
      "2it [00:02,  1.04s/it]\n"
     ]
    },
    {
     "name": "stdout",
     "output_type": "stream",
     "text": [
      "Saving plots...\n"
     ]
    },
    {
     "name": "stderr",
     "output_type": "stream",
     "text": [
      "100%|█████████████████████████████████████████████| 2/2 [00:08<00:00,  4.03s/it]\n"
     ]
    }
   ],
   "source": [
    "deeplabcut.extract_save_all_maps(config_path, shuffle=1, Indices=[0, 5])"
   ]
  },
  {
   "cell_type": "code",
   "execution_count": null,
   "id": "465a24c1-1f3a-4b95-9cca-4dd45772b36a",
   "metadata": {},
   "outputs": [
    {
     "name": "stdout",
     "output_type": "stream",
     "text": [
      "Using snapshot-150000 for model C:\\DLC_2\\dlc-models\\iteration-0\\OPEN_FIELD_TEST_TRIAL1Feb8-trainset95shuffle1\n",
      "Starting analysis in dynamic cropping mode with parameters: (True, 0.5, 10)\n",
      "Switching batchsize to 1, num_outputs (per animal) to 1 and TFGPUinference to False (all these features are not supported in this mode).\n"
     ]
    },
    {
     "name": "stderr",
     "output_type": "stream",
     "text": [
      "C:\\ProgramData\\Anaconda3\\envs\\deeplabcutkinematics\\lib\\site-packages\\tensorflow\\python\\keras\\engine\\base_layer_v1.py:1694: UserWarning: `layer.apply` is deprecated and will be removed in a future version. Please use `layer.__call__` method instead.\n",
      "  warnings.warn('`layer.apply` is deprecated and '\n"
     ]
    },
    {
     "name": "stdout",
     "output_type": "stream",
     "text": [
      "Starting to analyze %  C:\\DLC_2\\videos\\OPENFIELD_EVALUATE (2).mp4\n",
      "Loading  C:\\DLC_2\\videos\\OPENFIELD_EVALUATE (2).mp4\n",
      "Duration of video [s]:  166.0 , recorded with  30.0 fps!\n",
      "Overall # of frames:  4980  found with (before cropping) frame dimensions:  1500 1350\n",
      "Starting to extract posture\n"
     ]
    },
    {
     "name": "stderr",
     "output_type": "stream",
     "text": [
      " 18%|█████████████▎                                                             | 882/4980 [07:04<1:08:37,  1.00s/it]"
     ]
    }
   ],
   "source": [
    "deeplabcut.analyze_videos(config_path, [\"C:\\\\DLC_2\\\\videos\\\\OPENFIELD_EVALUATE (2).mp4\"], videotype='mp4', shuffle=1, trainingsetindex=0, gputouse=None, save_as_csv=True, destfolder=None, dynamic=(True, .5, 10))"
   ]
  },
  {
   "cell_type": "code",
   "execution_count": 39,
   "id": "86aaef2b-1eec-4d3e-aeb0-ab26b747787d",
   "metadata": {},
   "outputs": [
    {
     "name": "stdout",
     "output_type": "stream",
     "text": [
      "Loading  C:\\DLC_1\\videos\\OPENFIELD_EVALUATE (2).mp4 and data.\n",
      "Plots created! Please check the directory \"plot-poses\" within the video directory\n"
     ]
    }
   ],
   "source": [
    "deeplabcut.plot_trajectories(config_path, [\"C:\\\\DLC_1\\\\videos\\\\OPENFIELD_EVALUATE (2).mp4\"], videotype='mp4')"
   ]
  },
  {
   "cell_type": "code",
   "execution_count": 67,
   "id": "a6043d21-8ee2-467f-9352-9f6e26f1778e",
   "metadata": {},
   "outputs": [
    {
     "data": {
      "image/png": "[encoded data removed]",
      "text/plain": [
       "<Figure size 640x480 with 3 Axes>"
      ]
     },
     "metadata": {},
     "output_type": "display_data"
    },
    {
     "data": {
      "text/plain": [
       "<deeplabcut.utils.skeleton.SkeletonBuilder at 0x17fa2d4af10>"
      ]
     },
     "execution_count": 67,
     "metadata": {},
     "output_type": "execute_result"
    }
   ],
   "source": [
    "deeplabcut.SkeletonBuilder(config_path)"
   ]
  },
  {
   "cell_type": "code",
   "execution_count": 71,
   "id": "a86a5e63-23b1-4f13-9e9f-18d80f4b072f",
   "metadata": {},
   "outputs": [],
   "source": [
    "deeplabcut.create_labeled_video(config_path, ['C:\\\\DLC_1\\\\videos\\\\OPENFIELD_EVALUATE (3).mp4'], videotype='.mp4', save_frames = True,draw_skeleton = True,  trailpoints=10)"
   ]
  },
  {
   "cell_type": "code",
   "execution_count": 72,
   "id": "1d1c0692-e6e8-43e9-b65e-4e7f56872c39",
   "metadata": {},
   "outputs": [],
   "source": [
    "deeplabcut.create_labeled_video(config_path, ['C:\\\\DLC_1\\\\videos\\\\OPENFIELD_EVALUATE (3).mp4'], videotype='.mp4')"
   ]
  },
  {
   "cell_type": "code",
   "execution_count": 73,
   "id": "f9e8be8e-aef3-4418-bc65-c2984756e4ba",
   "metadata": {},
   "outputs": [
    {
     "name": "stdout",
     "output_type": "stream",
     "text": [
      "Using snapshot-150000 for model C:\\DLC_1\\dlc-models\\iteration-0\\OPEN_FIELD_TEST_TRIAL1Feb8-trainset95shuffle1\n",
      "Starting analysis in dynamic cropping mode with parameters: (True, 0.5, 10)\n",
      "Switching batchsize to 1, num_outputs (per animal) to 1 and TFGPUinference to False (all these features are not supported in this mode).\n"
     ]
    },
    {
     "name": "stderr",
     "output_type": "stream",
     "text": [
      "C:\\ProgramData\\Anaconda3\\envs\\deeplabcutkinematics\\lib\\site-packages\\tensorflow\\python\\keras\\engine\\base_layer_v1.py:1694: UserWarning: `layer.apply` is deprecated and will be removed in a future version. Please use `layer.__call__` method instead.\n",
      "  warnings.warn('`layer.apply` is deprecated and '\n"
     ]
    },
    {
     "name": "stdout",
     "output_type": "stream",
     "text": [
      "Starting to analyze %  C:\\DLC_1\\videos\\OPENFIELD_EVALUATE (3).mp4\n",
      "Loading  C:\\DLC_1\\videos\\OPENFIELD_EVALUATE (3).mp4\n",
      "Duration of video [s]:  166.0 , recorded with  30.0 fps!\n",
      "Overall # of frames:  4980  found with (before cropping) frame dimensions:  1500 1350\n",
      "Starting to extract posture\n"
     ]
    },
    {
     "name": "stderr",
     "output_type": "stream",
     "text": [
      " 99%|███████████████████████████████████████████████████████████████████████████████████████████████████████████████████████████████████████████████████████████████▉ | 4949/4980 [21:12<00:07,  3.89it/s]"
     ]
    },
    {
     "name": "stdout",
     "output_type": "stream",
     "text": [
      "Saving results in C:\\DLC_1\\videos...\n",
      "The videos are analyzed. Now your research can truly start! \n",
      " You can create labeled videos with 'create_labeled_video'\n",
      "If the tracking is not satisfactory for some videos, consider expanding the training set. You can use the function 'extract_outlier_frames' to extract a few representative outlier frames.\n"
     ]
    },
    {
     "name": "stderr",
     "output_type": "stream",
     "text": [
      "\n"
     ]
    },
    {
     "data": {
      "text/plain": [
       "'DLC_resnet50_OPEN_FIELD_TEST_TRIAL1Feb8shuffle1_150000'"
      ]
     },
     "execution_count": 73,
     "metadata": {},
     "output_type": "execute_result"
    }
   ],
   "source": [
    "deeplabcut.analyze_videos(config_path, [\"C:\\\\DLC_1\\\\videos\\\\OPENFIELD_EVALUATE (3).mp4\"], videotype='mp4', shuffle=1, trainingsetindex=0, gputouse=None, save_as_csv=False, destfolder=None, dynamic=(True, .5, 10))"
   ]
  },
  {
   "cell_type": "code",
   "execution_count": 74,
   "id": "3fddfbf4-a3cc-4950-9c8f-fae65f913596",
   "metadata": {},
   "outputs": [],
   "source": [
    "deeplabcut.create_labeled_video(config_path, ['C:\\\\DLC_1\\\\videos\\\\OPENFIELD_EVALUATE (3).mp4'], videotype='.mp4')"
   ]
  },
  {
   "cell_type": "code",
   "execution_count": null,
   "id": "e296ca77-fbf3-4d3d-959a-a9c12d431336",
   "metadata": {},
   "outputs": [],
   "source": []
  }
 ],
 "metadata": {
  "kernelspec": {
   "display_name": "Python 3 (ipykernel)",
   "language": "python",
   "name": "python3"
  },
  "language_info": {
   "codemirror_mode": {
    "name": "ipython",
    "version": 3
   },
   "file_extension": ".py",
   "mimetype": "text/x-python",
   "name": "python",
   "nbconvert_exporter": "python",
   "pygments_lexer": "ipython3",
   "version": "3.9.13"
  }
 },
 "nbformat": 4,
 "nbformat_minor": 5
}
