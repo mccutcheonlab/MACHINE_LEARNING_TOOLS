{
 "cells": [
  {
   "cell_type": "code",
   "execution_count": null,
   "id": "2b430094-a124-4716-831e-1c3e15d992db",
   "metadata": {},
   "outputs": [],
   "source": [
    "import csv"
   ]
  },
  {
   "cell_type": "code",
   "execution_count": null,
   "id": "26c0a1b5-fd77-4cad-8055-e4a277980aad",
   "metadata": {},
   "outputs": [],
   "source": [
    "#Don't forget to import csv \n",
    "\n",
    "#paste the path of your csv file, created while analysing your video of interest with DeeplabCut\n",
    "with open (\"C:\\Documents\\APT 2A\\Stage 2A\\DLC\\Program time spent in specific areas\\T1DLC_resnet50_OPEN_FIELD_TEST_TRIAL1May23shuffle1_50000.csv\", 'r') as csv_file: \n",
    "    csv_reader = csv.reader(csv_file)    #file is only open in this place (while indented)\n",
    "#    for line in csv_reader : \n",
    "#        print (line)\n",
    "#print (type(csv_reader))\n",
    "\n",
    "    csv_list = list(csv_reader)          #transform object of interest in list type, easier to read and manipulate \n",
    "\n",
    "#I want columns 10 and 11, all lines inderneath : contain all coordinates for x and y of the 'neck' point, for each frame\n",
    "\n",
    "#    for k in range (1,5): \n",
    " #       print (csv_list[k][10])         #returns all x coordinates for frames of interest\n",
    "  #  print ('\\n')    \n",
    "   # for k in range (1,5): \n",
    "    #    print (csv_list[k][11])         #returns all y coordinates for frames of interest\n",
    "\n",
    "# we want to define a square of interest : if the mouse is in it, count it, for each frame. \n",
    "#coordinates of the square : xmin, xmax; ymin, ymax\n",
    "    xmin = \n",
    "    xmax = \n",
    "    ymin = \n",
    "    ymax = \n",
    "\n",
    "    n=0 #variable which will store the number of interesting frames\n",
    "    S=float(csv_list[-1][0]) # number of frames in the video (Size of it)\n",
    "    for k in range(3, int(S+3+1)):#+3 because we started on the 3rd line, +1 because lists have a natural offset\n",
    "        x=float(csv_list[k][10])\n",
    "        y=float(csv_list[k][11])\n",
    "        if xmin<=x<=xmax and ymin<=y<=ymax : \n",
    "            n+=1\n",
    "    p = (n/S)*100 #proportion of the time spent by the mouse in the area of interest\n",
    "    t = n/30 #number of seconds spent by the mouse in the area of interest \n",
    "        \n",
    "    print('The mouse spent', round(p, 1), '% of the time in the area of interest, with a total of ', round(t, 1), 'seconds')\n",
    "        \n",
    "#Condition for the distance btw neck and center to by satisfied to add +1 to a variable initialized to 0. \n",
    "#when all frames studied, our variable tells the number of frames where the mouse is in the region of interest. \n",
    "#devide it by 30 to obtain the amount of time spent by the mouse near the object ! (can also calculate proportion of vid)"
   ]
  },
  {
   "cell_type": "code",
   "execution_count": null,
   "id": "12552388-7921-4b2a-b0df-3e4ea90d3994",
   "metadata": {},
   "outputs": [],
   "source": []
  }
 ],
 "metadata": {
  "kernelspec": {
   "display_name": "Python 3 (ipykernel)",
   "language": "python",
   "name": "python3"
  },
  "language_info": {
   "codemirror_mode": {
    "name": "ipython",
    "version": 3
   },
   "file_extension": ".py",
   "mimetype": "text/x-python",
   "name": "python",
   "nbconvert_exporter": "python",
   "pygments_lexer": "ipython3",
   "version": "3.8.16"
  }
 },
 "nbformat": 4,
 "nbformat_minor": 5
}
