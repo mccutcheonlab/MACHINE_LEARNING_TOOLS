{
 "cells": [
  {
   "cell_type": "code",
   "execution_count": null,
   "id": "031b7c82-4d2a-48c3-bf1c-2ace3f401ebc",
   "metadata": {},
   "outputs": [],
   "source": [
    "#program written to determine what is the average speed of the mouse in a video, from a CSV file with speed values for each frames"
   ]
  },
  {
   "cell_type": "code",
   "execution_count": 3,
   "id": "1628a9fd-9e0f-47ab-97d9-0d53f8a8fbcf",
   "metadata": {
    "tags": []
   },
   "outputs": [],
   "source": [
    "import csv\n",
    "import numpy as np"
   ]
  },
  {
   "cell_type": "code",
   "execution_count": 4,
   "id": "f82126c2-ca34-4dd0-96d0-c1567e8fe19b",
   "metadata": {},
   "outputs": [
    {
     "name": "stdout",
     "output_type": "stream",
     "text": [
      "The average speed of the mouse in this video is 6.15 pixels/s.\n"
     ]
    }
   ],
   "source": [
    "#Don't forget to import the modules above \n",
    "\n",
    "#paste the path of your csv file, created while analysing your video of interest with DeeplabCutKinematics\n",
    "\n",
    "with open (\"C:\\Documents\\APT 2A\\Stage 2A\\DLC\\Programs\\dlcSPEED.csv\", 'r') as csv_file: \n",
    "    csv_reader = csv.reader(csv_file)    #file is only open in this place (while indented)\n",
    "#    for line in csv_reader : \n",
    "#        print (line)\n",
    "#print (type(csv_reader))\n",
    "\n",
    "    csv_list = list(csv_reader)          #transform object of interest in list type, easier to read and manipulate \n",
    "\n",
    "#I want column 1, all lines inderneath : contain all instantaneous speed values of the 'neck' point, for each frame\n",
    "\n",
    "#    for k in range (1,5): \n",
    " #       print (csv_list[k][1])         #returns all speed values for frames of interest\n",
    "\n",
    "    L=[] #empty list to store values of interest\n",
    "    S=int(csv_list[-1][0]) # number of frames in the video (Size of it)\n",
    "    #print (S)\n",
    "    #print (csv_list[3][1])\n",
    "    for k in range (3,S+3+1): #+3 because we started on the 3rd line, +1 because lists have a natural offset \n",
    "        L+=[float(csv_list[k][1])]\n",
    "    #print (L)\n",
    "    #print(np.mean(d))\n",
    "    print('The average speed of the mouse in this video is', round(np.mean(L), 2), 'pixels/s.')\n",
    "\n",
    "#Need to add an object of a known dimension in the video to be able to precisely convert pixels in cm for example(pointing it on DLC beforehand)"
   ]
  },
  {
   "cell_type": "code",
   "execution_count": null,
   "id": "c110a2d7-99c9-4a57-a280-08caa7daa9f6",
   "metadata": {},
   "outputs": [],
   "source": []
  },
  {
   "cell_type": "code",
   "execution_count": null,
   "id": "f14197d1-4cb1-408a-ade9-e9711dc1f4dc",
   "metadata": {},
   "outputs": [],
   "source": []
  }
 ],
 "metadata": {
  "kernelspec": {
   "display_name": "Python 3 (ipykernel)",
   "language": "python",
   "name": "python3"
  },
  "language_info": {
   "codemirror_mode": {
    "name": "ipython",
    "version": 3
   },
   "file_extension": ".py",
   "mimetype": "text/x-python",
   "name": "python",
   "nbconvert_exporter": "python",
   "pygments_lexer": "ipython3",
   "version": "3.8.16"
  }
 },
 "nbformat": 4,
 "nbformat_minor": 5
}
