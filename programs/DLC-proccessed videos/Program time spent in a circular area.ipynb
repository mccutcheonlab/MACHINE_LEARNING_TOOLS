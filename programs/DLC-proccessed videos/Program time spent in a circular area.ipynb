{
 "cells": [
  {
   "cell_type": "code",
   "execution_count": null,
   "id": "a216463b-3789-4349-bdb3-b9b8c726d664",
   "metadata": {},
   "outputs": [],
   "source": [
    "#program written to determine how much time does a mouse spend in a specific area, from a CSV file with coordinates"
   ]
  },
  {
   "cell_type": "code",
   "execution_count": 3,
   "id": "e7dfcdb7-cfc1-4573-a296-00b579ed03f9",
   "metadata": {},
   "outputs": [],
   "source": [
    "import csv"
   ]
  },
  {
   "cell_type": "code",
   "execution_count": 5,
   "id": "447d659d-7c05-48cd-9e9e-f6a7a56bf7a0",
   "metadata": {},
   "outputs": [
    {
     "name": "stdout",
     "output_type": "stream",
     "text": [
      "The mouse spent 14.4 % of the time in the area of interest, with a total of  23.4 seconds\n"
     ]
    }
   ],
   "source": [
    "#Don't forget to import csv \n",
    "\n",
    "#paste the path of your csv file, created while analysing your video of interest with DeeplabCut\n",
    "with open (\"C:\\Documents\\APT 2A\\Stage 2A\\DLC\\Programs\\T1DLC_resnet50_OPEN_FIELD_TEST_TRIAL1May23shuffle1_50000.csv\", 'r') as csv_file: \n",
    "    csv_reader = csv.reader(csv_file)    #file is only open in this place (while indented)\n",
    "#    for line in csv_reader : \n",
    "#        print (line)\n",
    "#print (type(csv_reader))\n",
    "\n",
    "    csv_list = list(csv_reader)          #transform object of interest in list type, easier to read and manipulate \n",
    "\n",
    "#I want columns 10 and 11, all lines inderneath : contain all coordinates for x and y of the 'neck' point, for each frame\n",
    "\n",
    "#    for k in range (1,5): \n",
    " #       print (csv_list[k][10])         #returns all x coordinates for frames of interest\n",
    "  #  print ('\\n')    \n",
    "   # for k in range (1,5): \n",
    "    #    print (csv_list[k][11])         #returns all y coordinates for frames of interest\n",
    "\n",
    "# we look at the data to determine the center of the object we are interested in : x=x(o3)-x(o1), y=y(o4)-y(o2)\n",
    "#result : x = 1424-(1424-1139)/2, y =799-(799-509)/2 /// I decide to try and manipulate coordinates using lists only\n",
    "    O=[1424-(1424-1139)/2, 799-(799-509)/2] #O is the list of x,y coordinates of the center of the object of interest\n",
    "#then we find the formula calulating the distance btw each point of the neck and the center of the object.\n",
    "#formula : d = ((x1 - O[0])**2 + (y1 - O[1])**2)**0.5\n",
    "#lets say we want a distance of 245 pixels maximum from the center of the object (Object is roughly 290 pixels wide, so has a radius of 145 pixels)\n",
    "    n=0 #variable which will store the number of interesting frames\n",
    "    S=float(csv_list[-1][0]) # number of frames in the video (Size of it)\n",
    "    for k in range(3, int(S+3+1)):#+3 because we started on the 3rd line, +1 because lists have a natural offset\n",
    "        x=float(csv_list[k][10])\n",
    "        y=float(csv_list[k][11])\n",
    "        d = ((x - O[0])**2 + (y - O[1])**2)**0.5\n",
    "        if d <= 245:  #if the distance between the mouse and the object is inferior to 100 pixels\n",
    "            n+=1\n",
    "    p = (n/S)*100 #proportion of the time spent by the mouse in the area of interest\n",
    "    t = n/30 #number of seconds spent by the mouse in the area of interest \n",
    "        \n",
    "    print('The mouse spent', round(p, 1), '% of the time in the area of interest, with a total of ', round(t, 1), 'seconds')\n",
    "        \n",
    "#Condition for the distance btw neck and center to by satisfied to add +1 to a variable initialized to 0. \n",
    "#when all frames studied, our variable tells the number of frames where the mouse is in the region of interest. \n",
    "#devide it by 30 to obtain the amount of time spent by the mouse near the object ! (can also calculate proportion of vid)"
   ]
  },
  {
   "cell_type": "code",
   "execution_count": null,
   "id": "48c2a631-31c3-4787-bebb-46fbd7a302b1",
   "metadata": {},
   "outputs": [],
   "source": []
  },
  {
   "cell_type": "code",
   "execution_count": null,
   "id": "1e9625c3-b86a-4c46-9a03-808b5322cf15",
   "metadata": {},
   "outputs": [],
   "source": []
  }
 ],
 "metadata": {
  "kernelspec": {
   "display_name": "Python 3 (ipykernel)",
   "language": "python",
   "name": "python3"
  },
  "language_info": {
   "codemirror_mode": {
    "name": "ipython",
    "version": 3
   },
   "file_extension": ".py",
   "mimetype": "text/x-python",
   "name": "python",
   "nbconvert_exporter": "python",
   "pygments_lexer": "ipython3",
   "version": "3.8.16"
  }
 },
 "nbformat": 4,
 "nbformat_minor": 5
}
